{
 "cells": [
  {
   "cell_type": "markdown",
   "id": "a890a118",
   "metadata": {},
   "source": [
    "```\n",
    "Muris Saab\n",
    "ADS509 - Assignment 5.1\n",
    "University of San Diego\n",
    "```"
   ]
  },
  {
   "attachments": {},
   "cell_type": "markdown",
   "id": "bce2bb89",
   "metadata": {},
   "source": [
    "# ADS 509 Assignment 5.1: Topic Modeling\n",
    "\n",
    "This notebook holds Assignment 5.1 for Module 5 in ADS 509, Applied Text Mining. Work through this notebook, writing code and answering questions where required. \n",
    "\n",
    "In this assignment you will work with a categorical corpus that accompanies `nltk`. You will build the three types of topic models described in Chapter 8 of _Blueprints for Text Analytics using Python_: NMF, LSA, and LDA. You will compare these models to the true categories. \n"
   ]
  },
  {
   "attachments": {},
   "cell_type": "markdown",
   "id": "d87e2c06",
   "metadata": {},
   "source": [
    "## General Assignment Instructions\n",
    "\n",
    "These instructions are included in every assignment, to remind you of the coding standards for the class. Feel free to delete this cell after reading it. \n",
    "\n",
    "One sign of mature code is conforming to a style guide. We recommend the [Google Python Style Guide](https://google.github.io/styleguide/pyguide.html). If you use a different style guide, please include a cell with a link. \n",
    "\n",
    "Your code should be relatively easy-to-read, sensibly commented, and clean. Writing code is a messy process, so please be sure to edit your final submission. Remove any cells that are not needed or parts of cells that contain unnecessary code. Remove inessential `import` statements and make sure that all such statements are moved into the designated cell. \n",
    "\n",
    "Make use of non-code cells for written commentary. These cells should be grammatical and clearly written. In some of these cells you will have questions to answer. The questions will be marked by a \"Q:\" and will have a corresponding \"A:\" spot for you. *Make sure to answer every question marked with a `Q:` for full credit.* \n"
   ]
  },
  {
   "cell_type": "code",
   "execution_count": 22,
   "id": "a85bce08",
   "metadata": {},
   "outputs": [],
   "source": [
    "# These libraries may be useful to you\n",
    "\n",
    "#!pip install pyLDAvis==3.4.1 --user  #You need to restart the Kernel after installation.\n",
    "# You also need a Python version => 3.9.0\n",
    "from nltk.corpus import brown\n",
    "\n",
    "import numpy as np\n",
    "import pandas as pd\n",
    "from tqdm.auto import tqdm\n",
    "\n",
    "import pyLDAvis\n",
    "import pyLDAvis.lda_model\n",
    "import pyLDAvis.gensim_models\n",
    "\n",
    "import spacy\n",
    "from sklearn.feature_extraction.text import TfidfVectorizer, CountVectorizer\n",
    "from sklearn.decomposition import NMF, TruncatedSVD, LatentDirichletAllocation\n",
    "\n",
    "from spacy.lang.en.stop_words import STOP_WORDS as stopwords\n",
    "import en_core_web_sm\n",
    "\n",
    "from collections import Counter, defaultdict\n",
    "\n",
    "nlp = en_core_web_sm.load()"
   ]
  },
  {
   "cell_type": "code",
   "execution_count": 23,
   "id": "a218df60",
   "metadata": {},
   "outputs": [
    {
     "name": "stderr",
     "output_type": "stream",
     "text": [
      "[nltk_data] Downloading package brown to\n",
      "[nltk_data]     C:\\Users\\muriss\\AppData\\Roaming\\nltk_data...\n",
      "[nltk_data]   Package brown is already up-to-date!\n"
     ]
    }
   ],
   "source": [
    "# add any additional libaries you need here\n",
    "import nltk\n",
    "nltk.download('brown')\n",
    "\n",
    "import gensim.corpora as corpora\n",
    "from gensim.models.ldamodel import LdaModel"
   ]
  },
  {
   "cell_type": "code",
   "execution_count": 24,
   "id": "494de237",
   "metadata": {},
   "outputs": [],
   "source": [
    "# This function comes from the BTAP repo.\n",
    "\n",
    "def display_topics(model, features, no_top_words=5):\n",
    "    for topic, words in enumerate(model.components_):\n",
    "        total = words.sum()\n",
    "        largest = words.argsort()[::-1] # invert sort order\n",
    "        print(\"\\nTopic %02d\" % topic)\n",
    "        for i in range(0, no_top_words):\n",
    "            print(\"  %s (%2.2f)\" % (features[largest[i]], abs(words[largest[i]]*100.0/total)))"
   ]
  },
  {
   "attachments": {},
   "cell_type": "markdown",
   "id": "a30a901c",
   "metadata": {},
   "source": [
    "## Getting to Know the Brown Corpus\n",
    "\n",
    "Let's spend a bit of time getting to know what's in the Brown corpus, our NLTK example of an \"overlapping\" corpus."
   ]
  },
  {
   "cell_type": "code",
   "execution_count": 25,
   "id": "457c59ed",
   "metadata": {},
   "outputs": [
    {
     "name": "stdout",
     "output_type": "stream",
     "text": [
      "For adventure we have 29 articles.\n",
      "For belles_lettres we have 75 articles.\n",
      "For editorial we have 27 articles.\n",
      "For fiction we have 29 articles.\n",
      "For government we have 30 articles.\n",
      "For hobbies we have 36 articles.\n",
      "For humor we have 9 articles.\n",
      "For learned we have 80 articles.\n",
      "For lore we have 48 articles.\n",
      "For mystery we have 24 articles.\n",
      "For news we have 44 articles.\n",
      "For religion we have 17 articles.\n",
      "For reviews we have 17 articles.\n",
      "For romance we have 29 articles.\n",
      "For science_fiction we have 6 articles.\n"
     ]
    }
   ],
   "source": [
    "# categories of articles in Brown corpus\n",
    "for category in brown.categories() :\n",
    "    print(f\"For {category} we have {len(brown.fileids(categories=category))} articles.\")"
   ]
  },
  {
   "attachments": {},
   "cell_type": "markdown",
   "id": "23fb133c",
   "metadata": {},
   "source": [
    "Let's create a dataframe of the articles in of hobbies, editorial, government, news, and romance."
   ]
  },
  {
   "cell_type": "code",
   "execution_count": 26,
   "id": "18f50b9d",
   "metadata": {},
   "outputs": [
    {
     "data": {
      "text/plain": [
       "(166, 3)"
      ]
     },
     "execution_count": 26,
     "metadata": {},
     "output_type": "execute_result"
    }
   ],
   "source": [
    "categories = ['editorial','government','news','romance','hobbies'] \n",
    "category_list = []\n",
    "file_ids = []\n",
    "texts = []\n",
    "for category in categories : \n",
    "    for file_id in brown.fileids(categories=category) :\n",
    "        \n",
    "        # build some lists for a dataframe\n",
    "        category_list.append(category)\n",
    "        file_ids.append(file_id)\n",
    "        \n",
    "        text = brown.words(fileids=file_id)\n",
    "        texts.append(\" \".join(text))\n",
    "df = pd.DataFrame()\n",
    "df['category'] = category_list\n",
    "df['id'] = file_ids\n",
    "df['text'] = texts \n",
    "df.shape"
   ]
  },
  {
   "cell_type": "code",
   "execution_count": 27,
   "id": "586f47de",
   "metadata": {},
   "outputs": [],
   "source": [
    "# Let's add some helpful columns on the df\n",
    "df['char_len'] = df['text'].apply(len)\n",
    "df['word_len'] = df['text'].apply(lambda x: len(x.split()))\n"
   ]
  },
  {
   "cell_type": "code",
   "execution_count": 28,
   "id": "2128fd2d",
   "metadata": {},
   "outputs": [
    {
     "data": {
      "text/plain": [
       "<Axes: xlabel='category'>"
      ]
     },
     "execution_count": 28,
     "metadata": {},
     "output_type": "execute_result"
    },
    {
     "data": {
      "image/png": "[encoded data removed]",
      "text/plain": [
       "<Figure size 1000x600 with 1 Axes>"
      ]
     },
     "metadata": {},
     "output_type": "display_data"
    }
   ],
   "source": [
    "%matplotlib inline\n",
    "df.groupby('category').agg({'word_len': 'mean'}).plot.bar(figsize=(10,6))"
   ]
  },
  {
   "attachments": {},
   "cell_type": "markdown",
   "id": "554ffeb5",
   "metadata": {},
   "source": [
    "Now do our TF-IDF and Count vectorizations."
   ]
  },
  {
   "cell_type": "code",
   "execution_count": 29,
   "id": "21a7d247",
   "metadata": {},
   "outputs": [
    {
     "name": "stderr",
     "output_type": "stream",
     "text": [
      "C:\\Users\\muriss\\AppData\\Local\\Packages\\PythonSoftwareFoundation.Python.3.11_qbz5n2kfra8p0\\LocalCache\\local-packages\\Python311\\site-packages\\sklearn\\feature_extraction\\text.py:406: UserWarning: Your stop_words may be inconsistent with your preprocessing. Tokenizing the stop words generated tokens ['ll', 've'] not in stop_words.\n",
      "  warnings.warn(\n"
     ]
    },
    {
     "data": {
      "text/plain": [
       "(166, 4941)"
      ]
     },
     "execution_count": 29,
     "metadata": {},
     "output_type": "execute_result"
    }
   ],
   "source": [
    "count_text_vectorizer = CountVectorizer(stop_words=list(stopwords), min_df=5, max_df=0.7)\n",
    "count_text_vectors = count_text_vectorizer.fit_transform(df[\"text\"])\n",
    "count_text_vectors.shape"
   ]
  },
  {
   "cell_type": "code",
   "execution_count": 30,
   "id": "375ea76a",
   "metadata": {},
   "outputs": [
    {
     "data": {
      "text/plain": [
       "(166, 4941)"
      ]
     },
     "execution_count": 30,
     "metadata": {},
     "output_type": "execute_result"
    }
   ],
   "source": [
    "tfidf_text_vectorizer = TfidfVectorizer(stop_words=list(stopwords), min_df=5, max_df=0.7)\n",
    "tfidf_text_vectors = tfidf_text_vectorizer.fit_transform(df['text'])\n",
    "tfidf_text_vectors.shape"
   ]
  },
  {
   "attachments": {},
   "cell_type": "markdown",
   "id": "a1062b21",
   "metadata": {},
   "source": [
    "Q: What do the two data frames `count_text_vectors` and `tfidf_text_vectors` hold? \n",
    "\n",
    "A: \n",
    "\n",
    "**count_text_vectors**: contains the raw frequency counts of words in the documents. Each row corresponds to a document, and each column corresponds to a unique word (or term) from the corpus that meets the specified frequency criteria.\n",
    "\n",
    "**tfidf_text_vectors**: contains the TF-IDF (Term Frequency-Inverse Document Frequency) values for each word in the documents. It transforms the raw frequency counts into weights that reflect both the frequency of the word in a specific document and its relative importance across all documents."
   ]
  },
  {
   "attachments": {},
   "cell_type": "markdown",
   "id": "f77c3f94",
   "metadata": {},
   "source": [
    "## Fitting a Non-Negative Matrix Factorization Model\n",
    "\n",
    "In this section the code to fit a five-topic NMF model has already been written. This code comes directly from the [BTAP repo](https://github.com/blueprints-for-text-analytics-python/blueprints-text), which will help you tremendously in the coming sections. "
   ]
  },
  {
   "cell_type": "code",
   "execution_count": 31,
   "id": "d28745a3",
   "metadata": {},
   "outputs": [],
   "source": [
    "nmf_text_model = NMF(n_components=5, random_state=314)\n",
    "W_text_matrix = nmf_text_model.fit_transform(tfidf_text_vectors)\n",
    "H_text_matrix = nmf_text_model.components_"
   ]
  },
  {
   "cell_type": "code",
   "execution_count": 32,
   "id": "a67185e7",
   "metadata": {},
   "outputs": [
    {
     "name": "stdout",
     "output_type": "stream",
     "text": [
      "\n",
      "Topic 00\n",
      "  mr (0.51)\n",
      "  president (0.45)\n",
      "  kennedy (0.43)\n",
      "  united (0.42)\n",
      "  khrushchev (0.40)\n",
      "\n",
      "Topic 01\n",
      "  said (0.88)\n",
      "  didn (0.46)\n",
      "  ll (0.45)\n",
      "  thought (0.42)\n",
      "  man (0.37)\n",
      "\n",
      "Topic 02\n",
      "  state (0.39)\n",
      "  development (0.36)\n",
      "  tax (0.33)\n",
      "  sales (0.30)\n",
      "  program (0.25)\n",
      "\n",
      "Topic 03\n",
      "  mrs (2.61)\n",
      "  mr (0.78)\n",
      "  said (0.63)\n",
      "  miss (0.52)\n",
      "  car (0.51)\n",
      "\n",
      "Topic 04\n",
      "  game (1.02)\n",
      "  league (0.74)\n",
      "  ball (0.72)\n",
      "  baseball (0.71)\n",
      "  team (0.66)\n"
     ]
    }
   ],
   "source": [
    "display_topics(nmf_text_model, tfidf_text_vectorizer.get_feature_names_out())"
   ]
  },
  {
   "attachments": {},
   "cell_type": "markdown",
   "id": "fee51e9b",
   "metadata": {},
   "source": [
    "Now some work for you to do. Compare the NMF categorization to the original categories from the Brown Corpus.\n",
    "\n",
    "We are interested in the extent to which our NMF categorization agrees or disagrees with the original categories in the corpus. For each topic in your NMF model, tally the Brown categories and interpret the results. \n"
   ]
  },
  {
   "cell_type": "code",
   "execution_count": 33,
   "id": "7c8c8eb0",
   "metadata": {},
   "outputs": [
    {
     "data": {
      "text/html": [
       "<div>\n",
       "<style scoped>\n",
       "    .dataframe tbody tr th:only-of-type {\n",
       "        vertical-align: middle;\n",
       "    }\n",
       "\n",
       "    .dataframe tbody tr th {\n",
       "        vertical-align: top;\n",
       "    }\n",
       "\n",
       "    .dataframe thead th {\n",
       "        text-align: right;\n",
       "    }\n",
       "</style>\n",
       "<table border=\"1\" class=\"dataframe\">\n",
       "  <thead>\n",
       "    <tr style=\"text-align: right;\">\n",
       "      <th>category</th>\n",
       "      <th>editorial</th>\n",
       "      <th>government</th>\n",
       "      <th>hobbies</th>\n",
       "      <th>news</th>\n",
       "      <th>romance</th>\n",
       "    </tr>\n",
       "    <tr>\n",
       "      <th>nmf_topic</th>\n",
       "      <th></th>\n",
       "      <th></th>\n",
       "      <th></th>\n",
       "      <th></th>\n",
       "      <th></th>\n",
       "    </tr>\n",
       "  </thead>\n",
       "  <tbody>\n",
       "    <tr>\n",
       "      <th>0</th>\n",
       "      <td>20</td>\n",
       "      <td>4</td>\n",
       "      <td>0</td>\n",
       "      <td>8</td>\n",
       "      <td>0</td>\n",
       "    </tr>\n",
       "    <tr>\n",
       "      <th>1</th>\n",
       "      <td>4</td>\n",
       "      <td>0</td>\n",
       "      <td>8</td>\n",
       "      <td>0</td>\n",
       "      <td>29</td>\n",
       "    </tr>\n",
       "    <tr>\n",
       "      <th>2</th>\n",
       "      <td>2</td>\n",
       "      <td>26</td>\n",
       "      <td>26</td>\n",
       "      <td>11</td>\n",
       "      <td>0</td>\n",
       "    </tr>\n",
       "    <tr>\n",
       "      <th>3</th>\n",
       "      <td>0</td>\n",
       "      <td>0</td>\n",
       "      <td>1</td>\n",
       "      <td>17</td>\n",
       "      <td>0</td>\n",
       "    </tr>\n",
       "    <tr>\n",
       "      <th>4</th>\n",
       "      <td>1</td>\n",
       "      <td>0</td>\n",
       "      <td>1</td>\n",
       "      <td>8</td>\n",
       "      <td>0</td>\n",
       "    </tr>\n",
       "  </tbody>\n",
       "</table>\n",
       "</div>"
      ],
      "text/plain": [
       "category   editorial  government  hobbies  news  romance\n",
       "nmf_topic                                               \n",
       "0                 20           4        0     8        0\n",
       "1                  4           0        8     0       29\n",
       "2                  2          26       26    11        0\n",
       "3                  0           0        1    17        0\n",
       "4                  1           0        1     8        0"
      ]
     },
     "execution_count": 33,
     "metadata": {},
     "output_type": "execute_result"
    }
   ],
   "source": [
    "# Your code here\n",
    "df['nmf_topic'] = W_text_matrix.argmax(axis=1)\n",
    "nmf_vs_brown = pd.crosstab(df['nmf_topic'], df['category'])\n",
    "nmf_vs_brown"
   ]
  },
  {
   "attachments": {},
   "cell_type": "markdown",
   "id": "f8d4e2bc",
   "metadata": {},
   "source": [
    "Q: How does your five-topic NMF model compare to the original Brown categories? \n",
    "\n",
    "A:\n",
    "\n",
    "Topic 3 is predominantly composed of news documents (17 out of 18 documents). This shows that the NMF model successfully captured a theme closely related to news reporting, which strongly aligns with the news category in the Brown corpus.\n",
    "\n",
    "Topic 2 is a mix of government, hobbies, and news documents. This suggests that the NMF model uncovered a topic that blends government-related and hobby-related themes, with some overlap with news. This could indicate that these documents, though categorized differently in the Brown corpus, share underlying thematic elements (e.g., public policy or practical information).\n",
    "\n",
    "Topic 1 is heavily dominated by romance documents (29 out of 41 documents), with some contributions from hobbies and editorial. This shows that the NMF model has captured a narrative or personal interaction style that is typical in romance but has some overlap with hobbies and editorial content.\n",
    "\n",
    "Topic 0 shows a significant overlap between editorial and news categories. It suggests that editorials and certain news articles share thematic elements, such as opinion pieces, discussions of current events, or political commentary, which the NMF model grouped together.\n",
    "\n",
    "The NMF model does align with the original categories to an extent, particularly for news and romance, where the topics are well represented by documents from these categories.\n",
    "\n",
    "The NMF model also highlights some blending of themes across categories, particularly in editorial, government, and hobbies. This suggests that while the Brown corpus categories are discrete, the thematic content of documents within these categories can overlap.\n",
    "\n",
    "\n"
   ]
  },
  {
   "attachments": {},
   "cell_type": "markdown",
   "id": "82e37cb5",
   "metadata": {},
   "source": [
    "## Fitting an LSA Model\n",
    "\n",
    "In this section, follow the example from the repository and fit an LSA model (called a \"TruncatedSVD\" in `sklearn`). Again fit a five-topic model and compare it to the actual categories in the Brown corpus. Use the TF-IDF vectors for your fit, as above. \n",
    "\n",
    "To be explicit, we are once again interested in the extent to which this LSA factorization agrees or disagrees with the original categories in the corpus. For each topic in your model, tally the Brown categories and interpret the results. \n"
   ]
  },
  {
   "cell_type": "code",
   "execution_count": 34,
   "id": "00b53d3d",
   "metadata": {},
   "outputs": [
    {
     "data": {
      "text/html": [
       "<div>\n",
       "<style scoped>\n",
       "    .dataframe tbody tr th:only-of-type {\n",
       "        vertical-align: middle;\n",
       "    }\n",
       "\n",
       "    .dataframe tbody tr th {\n",
       "        vertical-align: top;\n",
       "    }\n",
       "\n",
       "    .dataframe thead th {\n",
       "        text-align: right;\n",
       "    }\n",
       "</style>\n",
       "<table border=\"1\" class=\"dataframe\">\n",
       "  <thead>\n",
       "    <tr style=\"text-align: right;\">\n",
       "      <th>category</th>\n",
       "      <th>editorial</th>\n",
       "      <th>government</th>\n",
       "      <th>hobbies</th>\n",
       "      <th>news</th>\n",
       "      <th>romance</th>\n",
       "    </tr>\n",
       "    <tr>\n",
       "      <th>lsa_topic</th>\n",
       "      <th></th>\n",
       "      <th></th>\n",
       "      <th></th>\n",
       "      <th></th>\n",
       "      <th></th>\n",
       "    </tr>\n",
       "  </thead>\n",
       "  <tbody>\n",
       "    <tr>\n",
       "      <th>0</th>\n",
       "      <td>27</td>\n",
       "      <td>30</td>\n",
       "      <td>36</td>\n",
       "      <td>34</td>\n",
       "      <td>21</td>\n",
       "    </tr>\n",
       "    <tr>\n",
       "      <th>1</th>\n",
       "      <td>0</td>\n",
       "      <td>0</td>\n",
       "      <td>0</td>\n",
       "      <td>0</td>\n",
       "      <td>8</td>\n",
       "    </tr>\n",
       "    <tr>\n",
       "      <th>3</th>\n",
       "      <td>0</td>\n",
       "      <td>0</td>\n",
       "      <td>0</td>\n",
       "      <td>3</td>\n",
       "      <td>0</td>\n",
       "    </tr>\n",
       "    <tr>\n",
       "      <th>4</th>\n",
       "      <td>0</td>\n",
       "      <td>0</td>\n",
       "      <td>0</td>\n",
       "      <td>7</td>\n",
       "      <td>0</td>\n",
       "    </tr>\n",
       "  </tbody>\n",
       "</table>\n",
       "</div>"
      ],
      "text/plain": [
       "category   editorial  government  hobbies  news  romance\n",
       "lsa_topic                                               \n",
       "0                 27          30       36    34       21\n",
       "1                  0           0        0     0        8\n",
       "3                  0           0        0     3        0\n",
       "4                  0           0        0     7        0"
      ]
     },
     "execution_count": 34,
     "metadata": {},
     "output_type": "execute_result"
    }
   ],
   "source": [
    "# Your code here\n",
    "\n",
    "from sklearn.decomposition import TruncatedSVD\n",
    "\n",
    "lsa_text_model = TruncatedSVD(n_components=5, random_state=314)\n",
    "W_lsa_matrix = lsa_text_model.fit_transform(tfidf_text_vectors)\n",
    "df['lsa_topic'] = W_lsa_matrix.argmax(axis=1)\n",
    "lsa_vs_brown = pd.crosstab(df['lsa_topic'], df['category'])\n",
    "lsa_vs_brown\n"
   ]
  },
  {
   "attachments": {},
   "cell_type": "markdown",
   "id": "4d94d56f",
   "metadata": {},
   "source": [
    "Q: How does your five-topic LSA model compare to the original Brown categories? \n",
    "\n",
    "Topic 0 captures documents from all categories: editorial, government, hobbies, news, and romance. This suggests that LSA identifies broad themes shared across many categories rather than isolating specific thematic content. In contrast, the Brown corpus categories represent distinct genres or domains of text, which LSA does not fully separate.\n",
    "\n",
    "Topic 1 captures only 8 romance documents, which is a subset of the full romance category. While LSA does identify a romance-specific theme, it fails to capture the majority of the romance-related documents, suggesting it does not effectively isolate this genre.\n",
    "\n",
    "Topics 3 and 4 capture a small number of news documents, but they are fragmented across these topics. This indicates that LSA struggles to consolidate all the news content into a single cohesive topic, likely due to the shared vocabulary and structure between news and other categories.\n",
    "\n",
    "The LSA model tends to group documents from multiple categories into a single topic (Topic 0), indicating that it captures more general patterns in the text (e.g., common word usage) rather than the specific distinctions between genres present in the Brown corpus.\n",
    "\n",
    "Brown Categories: The Brown corpus has clear-cut categories like editorial, government, hobbies, news, and romance, which represent distinct types of text with specific styles, vocabularies, and themes.\n",
    "\n",
    "LSA Model: The LSA model, on the other hand, tends to merge documents from different categories into broader topics, particularly in Topic 0. This suggests that LSA is picking up on overarching patterns rather than respecting the categorical boundaries defined in the corpus."
   ]
  },
  {
   "cell_type": "code",
   "execution_count": 35,
   "id": "377a886e",
   "metadata": {},
   "outputs": [
    {
     "name": "stdout",
     "output_type": "stream",
     "text": [
      "\n",
      "Topic 00\n",
      "  said (0.44)\n",
      "  mr (0.25)\n",
      "  mrs (0.22)\n",
      "  state (0.20)\n",
      "  man (0.17)\n",
      "\n",
      "Topic 01\n",
      "  said (3.89)\n",
      "  ll (2.73)\n",
      "  didn (2.63)\n",
      "  thought (2.20)\n",
      "  got (1.97)\n",
      "\n",
      "Topic 02\n",
      "  mrs (3.12)\n",
      "  mr (1.70)\n",
      "  said (1.06)\n",
      "  kennedy (0.82)\n",
      "  khrushchev (0.77)\n",
      "\n",
      "Topic 03\n",
      "  mrs (29.45)\n",
      "  club (6.53)\n",
      "  game (6.12)\n",
      "  jr (5.60)\n",
      "  university (5.20)\n",
      "\n",
      "Topic 04\n",
      "  game (4.54)\n",
      "  league (3.27)\n",
      "  baseball (3.22)\n",
      "  ball (3.10)\n",
      "  team (2.94)\n"
     ]
    }
   ],
   "source": [
    "# call display_topics on your model\n",
    "display_topics(lsa_text_model, tfidf_text_vectorizer.get_feature_names_out())\n"
   ]
  },
  {
   "attachments": {},
   "cell_type": "markdown",
   "id": "ea8b280a",
   "metadata": {},
   "source": [
    "Q: What is your interpretation of the display topics output? \n",
    "\n",
    "A: The LSA model captures some clear topics (e.g., sports and social activities) but also creates broader, more blended topics that combine different genres (e.g., dialogue, political figures, and titles). This reinforces the idea that LSA tends to generalize topics more than NMF, which resulted in clearer, more distinct themes aligned with the original Brown corpus categories."
   ]
  },
  {
   "attachments": {},
   "cell_type": "markdown",
   "id": "b4ab4d29",
   "metadata": {},
   "source": [
    "## Fitting an LDA Model\n",
    "\n",
    "Finally, fit a five-topic LDA model using the count vectors (`count_text_vectors` from above). Display the results using `pyLDAvis.display` and describe what you learn from that visualization. "
   ]
  },
  {
   "cell_type": "code",
   "execution_count": null,
   "id": "802cb8ff",
   "metadata": {},
   "outputs": [],
   "source": [
    "# Fit your LDA model here\n",
    "import gensim\n",
    "import pyLDAvis.gensim\n",
    "\n",
    "texts = [text.split() for text in df['text']]\n",
    "dictionary = corpora.Dictionary(texts)\n",
    "corpus = [dictionary.doc2bow(text) for text in texts]\n",
    "lda_model = gensim.models.LdaModel(corpus, num_topics=5, id2word=dictionary, random_state=314, passes=15)\n",
    "lda_vis_data = pyLDAvis.gensim.prepare(lda_model, corpus, dictionary)\n",
    "pyLDAvis.display(lda_vis_data)\n"
   ]
  },
  {
   "cell_type": "markdown",
   "id": "86e16921",
   "metadata": {},
   "source": [
    "Intertopic Distance Map:\n",
    "- Topic Separation: The visualization shows that Topics 1, 2, and 3 have considerable overlap, while Topics 4 and 5 are more distinct. This suggests that Topics 1, 2, and 3 might cover related themes or share substantial common vocabulary. Topics 4 and 5, being more isolated, could represent more unique or distinct themes that aren't as prevalent in other topics.\n",
    "- Size of Topics: The size of each circle indicates the prevalence of the topic. It seems that Topic 1 is the largest, suggesting it encompasses themes or words that are more common across the documents.\n",
    "\n",
    "Top-30 Most Salient Terms (for the selected Topic 1):\n",
    "- Common Words: The terms displayed are very common (e.g., \"the\", \"of\", \"and\", \"to\"), which can often be the case in raw frequency lists. These words might not provide much insight into the specific themes or subjects of the topic because they are general stopwords.\n",
    "- Lambda Value: The relevance metric (λ) is set to 1, which currently emphasizes the terms' overall frequency within the topic rather than their distinctiveness. Adjusting the lambda value closer to 0 might reveal more unique and informative words for each topic, which would be more useful for interpreting the specific themes."
   ]
  },
  {
   "cell_type": "code",
   "execution_count": 16,
   "id": "ab18adf5",
   "metadata": {},
   "outputs": [
    {
     "name": "stdout",
     "output_type": "stream",
     "text": [
      "Topic 1:\n",
      "Words: (0, '0.058*\",\" + 0.045*\"the\" + 0.043*\".\" + 0.025*\"and\" + 0.025*\"of\"')\n",
      "\n",
      "Topic 2:\n",
      "Words: (1, '0.036*\"the\" + 0.036*\".\" + 0.034*\",\" + 0.028*\"of\" + 0.019*\"in\"')\n",
      "\n",
      "Topic 3:\n",
      "Words: (2, '0.000*\".\" + 0.000*\"the\" + 0.000*\"and\" + 0.000*\",\" + 0.000*\"to\"')\n",
      "\n",
      "Topic 4:\n",
      "Words: (3, '0.060*\"the\" + 0.041*\",\" + 0.039*\".\" + 0.032*\"of\" + 0.025*\"to\"')\n",
      "\n",
      "Topic 5:\n",
      "Words: (4, '0.033*\"the\" + 0.028*\".\" + 0.021*\"of\" + 0.021*\"and\" + 0.020*\",\"')\n",
      "\n"
     ]
    }
   ],
   "source": [
    "# Call `display_topics` on your fitted model here\n",
    "\n",
    "def display_gensim_topics(model, num_words=5):\n",
    "    for idx, topic in enumerate(model.print_topics(num_topics=-1, num_words=num_words)):\n",
    "        print(f\"Topic {idx + 1}:\\nWords: {topic}\\n\")\n",
    "display_gensim_topics(lda_model)\n"
   ]
  },
  {
   "attachments": {},
   "cell_type": "markdown",
   "id": "f2c67876",
   "metadata": {},
   "source": [
    "Q: What inference do you draw from the displayed topics for your LDA model? \n",
    "\n",
    "A: \n",
    "\n",
    "- Topic 1: This topic is heavily weighted towards punctuation and very common English words, which suggests that it might not represent a coherent thematic topic. Instead, it captures frequent structural elements of the English language.\n",
    "- Topic 2: This topic is dominated by common stopwords and punctuation. It lacks specific thematic content and reflects generic textual structure.\n",
    "- Topic 3: This topic also shows all zero or negligible weights (indicated by the \"0.000*\"), which can happen if the words are too common across all documents to provide any distinctive value for topic differentiation.\n",
    "- Topic 4: This topic is composed mostly of common English stopwords and punctuation. There's no distinct thematic element evident from the top words.\n",
    "- Topic 5: This topic continues the pattern of the others, dominated by stopwords and punctuation, indicating a lack of specific, differentiated themes.\n",
    "\n",
    "\n",
    "Q: Repeat the tallying of Brown categories within your topics. How does your five-topic LDA model compare to the original Brown categories? "
   ]
  },
  {
   "cell_type": "code",
   "execution_count": 17,
   "id": "6ba613fa",
   "metadata": {},
   "outputs": [
    {
     "name": "stdout",
     "output_type": "stream",
     "text": [
      "dominant_topic   0  1   3  4\n",
      "category                    \n",
      "editorial        7  0  20  0\n",
      "government       6  3  19  2\n",
      "hobbies         11  7  14  4\n",
      "news            16  5  23  0\n",
      "romance         29  0   0  0\n"
     ]
    }
   ],
   "source": [
    "doc_topic_distrib = [lda_model.get_document_topics(bow) for bow in corpus]\n",
    "dominant_topics = [sorted(topics, key=lambda x: x[1], reverse=True)[0][0] for topics in doc_topic_distrib]\n",
    "df['dominant_topic'] = dominant_topics\n",
    "category_topic_distribution = pd.crosstab(df['category'], df['dominant_topic'])\n",
    "print(category_topic_distribution)\n"
   ]
  },
  {
   "cell_type": "markdown",
   "id": "b51bbfed",
   "metadata": {},
   "source": [
    "- Topic 0: Has a broad distribution across multiple categories with romance showing a particularly strong alignment, where all 29 romance articles are assigned to this topic. This indicates that Topic 0 may have captured themes or styles particularly prevalent in romance texts.\n",
    "\n",
    "- Topic 1: Shows minimal alignment with very few documents overall; however, it captures a small portion of government and hobbies articles. This suggests a more niche theme that resonates with only specific aspects of these categories.\n",
    "\n",
    "- Topic 3: The most evenly distributed across categories, indicating that it likely captures a more generic or broadly applicable theme that spans multiple types of content. It's particularly dominant in editorial, government, and news categories, suggesting themes of formal or informative content.\n",
    "\n",
    "- Topic 4: This topic is less represented but captures a few documents from government and hobbies. The sparse distribution suggests a very niche or less dominant theme within these categories."
   ]
  },
  {
   "cell_type": "code",
   "execution_count": 21,
   "id": "6aae75ca",
   "metadata": {},
   "outputs": [
    {
     "data": {
      "text/html": [
       "\n",
       "<link rel=\"stylesheet\" type=\"text/css\" href=\"https://cdn.jsdelivr.net/gh/bmabey/pyLDAvis@3.4.0/pyLDAvis/js/ldavis.v1.0.0.css\">\n",
       "\n",
       "\n",
       "<div id=\"ldavis_el1848414927841107689076924569\" style=\"background-color:white;\"></div>\n",
       "<script type=\"text/javascript\">\n",
       "\n",
       "var ldavis_el1848414927841107689076924569_data = {\"mdsDat\": {\"x\": [0.12672645589058662, 0.10840924055864087, 0.05566981420191583, -0.04207873320810269, -0.24872677744304061], \"y\": [0.015634255058629462, -0.06807164636169671, 0.06838355887495247, -0.011492086203718522, -0.004454081368166586], \"topics\": [1, 2, 3, 4, 5], \"cluster\": [1, 1, 1, 1, 1], \"Freq\": [46.24319282992519, 42.39000476253658, 8.626583551639282, 2.731562878072075, 0.0086559778268752]}, \"tinfo\": {\"Term\": [\"the\", \".\", \"of\", \",\", \"and\", \"a\", \"to\", \"in\", \"for\", \"is\", \"are\", \"''\", \"with\", \"on\", \";\", \"or\", \"be\", \"The\", \"will\", \"as\", \"you\", \"her\", \"``\", \"at\", \"from\", \"that\", \"have\", \"I\", \"by\", \"(\", \"Peace\", \"Sharpe\", \"Player\", \"tests\", \"item\", \"boats\", \"shelter\", \"gear\", \"Premier\", \"anti-trust\", \"petitioner\", \"Democrats\", \"interior\", \"State's\", \"Cuba\", \"Mayor\", \"Democratic\", \"camping\", \"Determine\", \"capita\", \"taxpayers\", \"fiscal\", \"gun\", \"grants\", \"propaganda\", \"assessors\", \"tax\", \"assessment\", \"strategic\", \"neutral\", \"nuclear\", \"allotment\", \"formula\", \"Corps\", \"Moscow\", \"Communist\", \"Speaker\", \"Eisenhower\", \"Congress\", \"session\", \"administration\", \"President\", \"Berlin\", \"law\", \"Kennedy\", \"faculty\", \"aircraft\", \"is\", \"States\", \"the\", \"problem\", \"may\", \"property\", \"vote\", \"be\", \"of\", \"United\", \"to\", \"in\", \".\", \"should\", \"are\", \"The\", \"by\", \"for\", \"a\", \"has\", \",\", \"that\", \"will\", \"and\", \"this\", \"as\", \"or\", \"can\", \"year\", \"on\", \"which\", \"have\", \"not\", \"with\", \"it\", \"an\", \"from\", \"would\", \"at\", \"``\", \"was\", \"''\", \"Hanover\", \"Du\", \"she\", \"herself\", \"Motors\", \"Her\", \"Phil\", \"Lucy\", \"skywave\", \"I'd\", \"Pont\", \"hair\", \"Prokofieff\", \"baby\", \"hadn't\", \"Pathology\", \"pale\", \"smiled\", \"pursuant\", \"Johnnie\", \"Linda\", \"She\", \"Carleton\", \"her\", \"Myra\", \"Theresa\", \"SBA\", \"snake\", \"Maggie\", \"she'd\", \"couldn't\", \"Oh\", \"wasn't\", \"Mrs.\", \"I'll\", \"myself\", \"Miss\", \"mother\", \"looked\", \"didn't\", \"I\", \"!\", \"Maris\", \"had\", \"I'm\", \"me\", \"eyes\", \"him\", \"went\", \"thought\", \"was\", \"``\", \"''\", \"?\", \",\", \"he\", \"said\", \"He\", \"his\", \".\", \";\", \"and\", \"my\", \"like\", \"you\", \"the\", \"a\", \"at\", \"to\", \"of\", \"it\", \"in\", \"with\", \"that\", \"for\", \"on\", \"The\", \"as\", \"is\", \"be\", \"--\", \"Juniors\", \"marketing\", \"milligrams\", \"grams\", \"Drug's\", \"state-owned\", \"gin\", \"bacterial\", \"turnpikes\", \"Classes\", \"Hengesbach\", \"Showmanship\", \"bloat\", \"cavity\", \"Foods\", \"toll-road\", \"textile\", \"lambs\", \"diarrhea\", \"Finals\", \"cone\", \"seam\", \"Simpkins\", \"Annapolis\", \"Pohl\", \"Sales\", \"ketosis\", \"drug\", \"debentures\", \"Handler\", \"mold\", \"lid\", \"Kowalski\", \"clay\", \"pool\", \"feed\", \"yarn\", \"vehicles\", \"allowances\", \"Class\", \"cattle\", \"Junior\", \"engineers\", \"management\", \"per\", \"pound\", \"Westminster\", \"engineer\", \"employees\", \"sales\", \".\", \"of\", \"in\", \"the\", \",\", \"market\", \"to\", \"and\", \"for\", \":\", \"industry\", \"are\", \"a\", \"is\", \";\", \"your\", \"on\", \"as\", \"have\", \"The\", \"with\", \"--\", \"at\", \"be\", \"that\", \"or\", \"will\", \"from\", \"by\", \"this\", \"has\", \"?\", \"was\", \"it\", \"tappet\", \"helium\", \"tappets\", \"Drill\", \"Push-Pull\", \"grill\", \"2-56\", \"Super-Set\", \"spectra\", \"thermometer\", \"buns\", \"frankfurter\", \"franks\", \"quill\", \"measurements\", \"1/8''\", \"frankfurters\", \"levers\", \"notches\", \"Weider\", \"thermometers\", \"probabilities\", \"bodybuilder\", \"coals\", \"locking\", \"interlocking\", \"12''\", \"spacers\", \"shutter\", \"barbell\", \"trails\", \"Forests\", \"barbecue\", \"mustard\", \"drill\", \"habitat\", \"Henri\", \"Fig.\", \"bars\", \"sauce\", \"bar\", \"Af\", \"cup\", \"acres\", \"frame\", \"exercise\", \"Forest\", \"wildlife\", \"the\", \".\", \"and\", \"of\", \"a\", \",\", \"No.\", \"to\", \"National\", \"are\", \"in\", \"or\", \"is\", \"with\", \"for\", \"''\", \"on\", \";\", \"you\", \"be\", \"will\", \"The\", \"from\", \"as\", \"A\", \"that\", \"``\", \"which\", \"by\", \"(\", \"can\", \"at\", \"Compress\", \"snug-fitting\", \"Assemble\", \"left-hand\", \"disassemble\", \"right-hand\", \"unsolder\", \"reassemble\", \"Derails\", \"dog-pin\", \"Tack-solder\", \"Interlocking\", \"crosswise\", \"mandrel\", \"wedge-shaped\", \"Larson's\", \"Tend\", \"soldered\", \"21/64''\", \"5/16''\", \"align\", \"snug\", \"scribing\", \"cams\", \"9/32''\", \"carborundum\", \"3/64''\", \"Turnout\", \"horizontally\", \"slot\", \"track-signal\", \".\", \"and\", \"the\", \",\", \"to\", \"a\", \"of\", \"''\", \"``\", \"in\", \"?\", \"I\", \"with\", \"for\", \"is\", \"was\", \"on\", \"that\", \"be\", \"he\", \"as\", \"it\", \"his\", \"The\", \"at\", \"her\", \"had\", \"but\", \"you\", \"or\", \"have\"], \"Freq\": [19442.0, 15350.0, 10888.0, 18168.0, 8775.0, 6691.0, 8416.0, 6203.0, 3278.0, 3115.0, 1532.0, 2360.0, 2149.0, 2153.0, 1607.0, 1299.0, 2261.0, 2330.0, 1119.0, 1938.0, 977.0, 759.0, 2388.0, 1666.0, 1217.0, 2854.0, 1309.0, 1495.0, 1602.0, 863.0, 56.81520474032853, 30.53393747339101, 31.46345376526741, 27.489855350939898, 26.47518460536233, 36.318761463359806, 59.94143623058923, 21.4061172015369, 23.376335374918177, 25.337131918113972, 19.41722530536079, 23.337134663610716, 29.20934168518994, 18.39842094895734, 36.0840593373436, 29.139160893747846, 48.716480144003555, 16.35041220590723, 15.356727882731834, 15.356347393820496, 17.29704143953399, 109.06189206403491, 20.219473233114886, 19.24601306033902, 14.353149553681709, 19.214028696547253, 157.40505305373833, 17.25502976933053, 14.322319598423658, 13.33869752451916, 75.49518618949519, 38.62857504936904, 36.571998834914, 63.030079557785754, 35.36714575430658, 59.24131592684985, 22.962386734623127, 34.93962116612063, 82.31886914869082, 50.12953830991048, 78.3100120952461, 147.6798496609257, 57.20337590397049, 80.3455604735399, 96.71058008877455, 49.823123083367065, 48.60999501602805, 2030.8901586750746, 219.94406378678494, 10587.025292513223, 103.78266277479452, 319.77596783537194, 84.86544778358929, 53.01192041012324, 1417.6921998903729, 5727.131269087808, 234.92118409473983, 4378.5074456574985, 3156.021318253155, 6866.67358854257, 257.2802241271002, 923.9924004520888, 1322.6746246252912, 949.4541593130052, 1749.7450695294194, 3227.6843495456624, 591.9228824819013, 7351.194690905998, 1511.8742111527188, 684.765862672655, 3774.612011087233, 735.3340917555372, 1049.9892896972608, 726.2076588446115, 406.96638405242544, 288.6521819568108, 1033.475304790698, 564.3036324291476, 678.9160035508069, 623.4725881654849, 926.9760961371148, 856.7434132549208, 538.4538266458663, 594.3325834663963, 443.81717513659174, 596.5525266068918, 672.9475354230194, 660.8577823965238, 655.5532596539393, 48.768075635077906, 44.98358403751323, 555.0303966418004, 40.33535395436598, 38.450155033903194, 46.742076764029626, 44.866776690822455, 29.14575111386665, 29.117259896741665, 33.71580830139291, 29.11831099677384, 32.769941652122455, 27.270417823051236, 29.077365549245044, 29.051462932876504, 24.46394514684734, 24.462186986296906, 25.367319357119523, 25.35107594669001, 23.527495689513014, 23.519290940277656, 271.8231048988009, 27.17795661051431, 742.6344127936769, 22.598446640757366, 22.59777991590626, 23.492901923217026, 20.73361960489111, 20.727555018700947, 20.72750756497489, 49.56528399672773, 24.32903183097929, 52.12829770407942, 277.4162478113249, 57.81933290808759, 35.918524848279695, 75.3331317832638, 67.62828857043154, 76.85251467492117, 107.92346820031716, 1229.1171049226798, 373.22849063051507, 33.226833244663915, 923.911518557746, 85.88247471567621, 226.40204970613533, 85.7009642135059, 460.03080837209177, 116.96718982162889, 117.67415543243499, 1615.4059239277094, 1607.9783907992125, 1574.3407601388133, 951.3804685345044, 9470.525824217051, 1097.304092829893, 560.8424910463541, 504.72747294574293, 977.051871368201, 6997.70897046525, 982.2630497489422, 4146.326182827897, 220.94261241215125, 257.7518033628649, 610.2190800467864, 7318.785892084426, 2951.2318050433196, 913.5376025598233, 3288.5502009799893, 4015.161350670077, 961.6842289438235, 2323.8607465464283, 1015.7733525715837, 1154.9264310849978, 1136.0850999872425, 889.1690892287642, 811.9723547157663, 703.9433019749711, 785.513599659322, 657.9862284742492, 580.584873494491, 23.98341982985598, 32.775238024130836, 16.589701070323837, 14.126085166793306, 12.47997751352783, 10.013786067607642, 10.013862358514572, 9.196224703420043, 8.364289746083706, 7.551627899824091, 7.512728711512636, 6.730490520087595, 6.73052142273344, 6.728106187819103, 6.729060307009573, 6.720436537403404, 18.205368651724132, 5.910898755497199, 5.910328505110587, 5.908991965677783, 5.907953347065081, 5.906203967597939, 5.9039838056355, 5.901460411460705, 5.878923691270429, 5.8696021978635375, 5.088701511578981, 5.088591903756999, 5.087849274549033, 5.086748850644639, 29.71355259277415, 13.29674796312333, 14.035955668770493, 53.93724242549172, 52.14746161173825, 64.13075055567343, 10.831514499224342, 29.481518145030297, 15.25789553658048, 27.01367340755739, 14.947734371601614, 27.25843781397409, 13.745690013469822, 38.99826219403344, 91.83563309992665, 13.735749018584503, 13.96595634739276, 18.214114100498318, 28.030260365187786, 48.24617640116794, 1187.7236625870796, 927.2423559094004, 638.4152264984855, 1190.3079890538197, 1136.3811415058242, 36.49731492861425, 632.2528680852078, 637.9566930394349, 330.9662863118523, 113.26451661363718, 33.704797336815126, 172.15618324311836, 363.53115457439213, 236.22722602418818, 159.9056945718829, 80.86401952434785, 182.87260276930772, 156.04967787464503, 126.2441223109437, 163.19945307929072, 153.0417997439509, 116.87171293219117, 134.7862007728208, 149.0092825849683, 159.28164654168543, 115.68674325159652, 108.02658767383339, 100.98355020793691, 104.04660501278761, 98.26963349584499, 91.88723279282664, 91.78651334435575, 94.4211879468392, 92.83289238399625, 9.179273620837742, 7.971358325774846, 7.365314298167327, 5.554286854753744, 5.552428897060324, 5.550158127831993, 4.952109189403566, 4.950634993544451, 4.951170731180869, 4.950061949976731, 4.948276463641662, 4.94732026981228, 4.945929553619114, 4.944861136209501, 6.595792010154029, 4.348226459521046, 4.342182592863631, 3.74385080208721, 3.7431401546745193, 3.74272611999432, 3.743057286581215, 3.7424662016204873, 3.741726504507192, 3.7385065745348887, 14.619420226692942, 3.13963904612205, 3.139266598381664, 3.1390950522549343, 3.1393953344232917, 3.138194205749863, 7.361841788692923, 7.353178862186242, 6.756771996307793, 6.752898906751365, 12.716585332633159, 6.15444755352298, 7.328349624399815, 10.78656725767899, 12.801693004960919, 9.156042422370902, 15.174960585333167, 26.219865913131898, 8.547403492033567, 11.56462465351631, 13.435759291130818, 10.857810578160196, 9.147171561165155, 7.349985229837644, 346.0152771440309, 297.93705635826785, 216.98190357441268, 218.90421828033908, 148.64479586930318, 210.81365038001698, 11.552418886681128, 117.2345031387322, 18.107501563766522, 51.30310205019456, 85.33566660956006, 46.47035716321726, 62.75526461014832, 53.24619554828412, 61.230956488559066, 53.42450566845976, 47.79867826891967, 40.41262737710166, 31.600029474032965, 37.029150648256504, 30.3388394743514, 32.75122201790856, 25.772512755270483, 28.042557881590447, 20.399966943226968, 28.174823920521114, 26.352293407240662, 22.833869504992183, 22.462422297452207, 21.03815522901953, 20.397049741713598, 21.54069670230367, 0.0011085218753565493, 0.0011084544088540117, 0.0011083890014727364, 0.0011082908904008237, 0.0011082528572198599, 0.0011082358997506405, 0.0011082187000318606, 0.0011081803034765564, 0.0011081769119827127, 0.00110815728976833, 0.0011081339126857632, 0.0011081245860776925, 0.0011081386365521886, 0.0011081187720882457, 0.0011081306423166993, 0.0011081185298386855, 0.0011081064173606716, 0.0011080883697684308, 0.001108043311350219, 0.001108041615603297, 0.0011080452493467013, 0.0011080257482570988, 0.0011079498030199515, 0.0011079547691359372, 0.0011079422932835827, 0.001108002492299312, 0.001107949439645611, 0.0011079260625630441, 0.0011079506508934124, 0.0011079422932835827, 0.0011079366004189163, 0.011093692643184036, 0.00635286777953492, 0.00696584928387603, 0.00617775526239198, 0.005062110280965001, 0.004784090635114861, 0.0044866004231068944, 0.0033230060172157448, 0.003227103776793559, 0.003103597683476755, 0.002397848405773903, 0.002352536836771605, 0.0024110490688126008, 0.002494297161204077, 0.0024572656821720993, 0.0023307392213377425, 0.0022617136006302186, 0.002260974012722688, 0.0021108238592690894, 0.0020452311570802726, 0.0020435991217926763, 0.001991936374943776, 0.0019180404479516324, 0.0019757373890975107, 0.0019166846982875336, 0.001783412919572001, 0.0017530958716022633, 0.001710383640381754, 0.001722766105530611, 0.0017487748661955752, 0.0017259948076700034], \"Total\": [19442.0, 15350.0, 10888.0, 18168.0, 8775.0, 6691.0, 8416.0, 6203.0, 3278.0, 3115.0, 1532.0, 2360.0, 2149.0, 2153.0, 1607.0, 1299.0, 2261.0, 2330.0, 1119.0, 1938.0, 977.0, 759.0, 2388.0, 1666.0, 1217.0, 2854.0, 1309.0, 1495.0, 1602.0, 863.0, 57.38842913861313, 31.051272070703675, 32.05151633337021, 28.011015763327016, 26.995083447246802, 37.10033575300744, 61.25503469431815, 21.927495481868803, 23.948475950422715, 25.971161636981417, 19.907804411049803, 23.94441649513473, 29.993559428723835, 18.893180536371098, 37.08346143181236, 29.96576330368586, 50.147446952875505, 16.862617286906602, 15.852520963800881, 15.852480961748142, 17.865451438013647, 112.65265776009228, 20.89573856402966, 19.890765759562974, 14.8398397420953, 19.87873277923909, 162.87207340343159, 17.86023757038254, 14.834041235945904, 13.82616749327743, 78.45801623843501, 40.07469520518489, 38.036967672869295, 66.1348044346754, 36.989244150575374, 63.10271702167789, 23.910040124200364, 36.87162207071208, 89.26116167856547, 53.848266425052145, 85.73126511218466, 166.58921933946425, 62.05935117513946, 88.97561768339683, 109.9427754410674, 53.934114478982934, 52.75044357337196, 3115.388706234415, 273.7743548731373, 19442.141416644783, 121.07735449024936, 424.4950327846261, 97.68549695049884, 58.01850605651457, 2261.718972421706, 10888.443680548047, 304.2459645163962, 8416.55007997171, 6203.636061505313, 15350.054371645809, 352.12824165098397, 1532.7316739723938, 2330.599630175646, 1602.8276226301393, 3278.0299066142347, 6691.096889123313, 935.4977295237302, 18168.92148476415, 2854.259373673936, 1119.2454203269328, 8775.883143396757, 1257.639670053245, 1938.0268710275893, 1299.6375878817187, 643.3584366796562, 425.67389126198316, 2153.31793677129, 1008.1660298997181, 1309.4619101098147, 1179.931662410042, 2149.0398550500026, 1929.6546405369465, 1026.3672210253735, 1217.7119453349046, 841.882537272862, 1666.4189433265378, 2388.7250608317468, 2378.505665100512, 2360.129725759846, 49.29617348975425, 45.54469187957393, 562.23294188099, 40.874716233305975, 38.99784719649592, 47.42155845450132, 45.54389589377669, 29.651757521078803, 29.641120508216307, 34.3236948763967, 29.64468413959273, 33.3854636561656, 27.782650458428453, 29.64361674216697, 29.651521965366065, 24.97184422483997, 24.973888583201322, 25.906960390482656, 25.895736780052655, 24.033244211951768, 24.041229534448565, 277.8566986338243, 27.781431435051097, 759.1894159890317, 23.103080762339648, 23.106301388552758, 24.024134278322258, 21.234449418490794, 21.232806080987466, 21.234049263337614, 51.01637607996718, 24.92673995207435, 53.835179908483454, 291.51648934458296, 60.65082353628858, 37.150925268094866, 80.48396490977844, 71.93337178262297, 82.23478268234985, 117.1360583312801, 1495.1001798253778, 437.59990960125936, 34.36661034772449, 1166.7801415127606, 93.75865201742869, 268.44441363881845, 94.477282338183, 581.4435368327132, 132.62363080629592, 133.7312549547992, 2378.505665100512, 2388.7250608317468, 2360.129725759846, 1375.048176904704, 18168.92148476415, 1621.8619693805529, 771.2591624275705, 708.2194011992425, 1514.7563614774224, 15350.054371645809, 1607.7066436094192, 8775.883143396757, 288.86228468343387, 348.71181353370383, 977.5799071609508, 19442.141416644783, 6691.096889123313, 1666.4189433265378, 8416.55007997171, 10888.443680548047, 1929.6546405369465, 6203.636061505313, 2149.0398550500026, 2854.259373673936, 3278.0299066142347, 2153.31793677129, 2330.599630175646, 1938.0268710275893, 3115.388706234415, 2261.718972421706, 1149.2970873635395, 24.523066539288276, 33.59788571058621, 17.118495444072803, 14.653106085581976, 13.008815305390923, 10.540701018990946, 10.542249883929655, 9.718112575107007, 8.898267841819717, 8.073565455356977, 8.074698916614873, 7.2511356194462, 7.251256003756147, 7.250716990012647, 7.252180746668009, 7.25359518151059, 19.673771623920143, 6.428808367877418, 6.428856148801376, 6.428495621267972, 6.428681604329431, 6.428694787013885, 6.4274709330036135, 6.428259038550791, 6.4288598975416456, 6.43140091473427, 5.606240901990028, 5.606286351627079, 5.606010443479107, 5.606063289999392, 33.1173791518287, 14.730966622416474, 15.651425689382087, 62.94826335287492, 60.96384892529849, 77.89261020207744, 12.328189812436385, 37.11459161661084, 18.410316405682135, 35.46694953963948, 18.31155352523827, 37.93129029414876, 17.655921162146004, 65.36184514981603, 195.64694583304984, 17.76838699644938, 18.395239000065803, 25.979798437470805, 47.394503710813865, 103.1758557550708, 15350.054371645809, 10888.443680548047, 6203.636061505313, 19442.141416644783, 18168.92148476415, 83.08556426015579, 8416.55007997171, 8775.883143396757, 3278.0299066142347, 627.7389740615853, 78.13248659260883, 1532.7316739723938, 6691.096889123313, 3115.388706234415, 1607.7066436094192, 434.0775285216075, 2153.31793677129, 1938.0268710275893, 1309.4619101098147, 2330.599630175646, 2149.0398550500026, 1149.2970873635395, 1666.4189433265378, 2261.718972421706, 2854.259373673936, 1299.6375878817187, 1119.2454203269328, 1217.7119453349046, 1602.8276226301393, 1257.639670053245, 935.4977295237302, 1375.048176904704, 2378.505665100512, 1929.6546405369465, 9.755871426786602, 8.549060030688414, 7.94154338429526, 6.12507422811434, 6.127005362426948, 6.129600896332143, 5.518312924884477, 5.519969847216911, 5.520597003944298, 5.52120156771013, 5.522160460770476, 5.523306548326431, 5.523967425579955, 5.522825292447057, 7.420776468959646, 4.913290379216122, 4.918132487376711, 4.307761464658482, 4.307909901206884, 4.308371682399114, 4.30905877252922, 4.309412652973174, 4.309131815789622, 4.312136900764719, 16.93297610356805, 3.7021794187172796, 3.7023789456601963, 3.7024778015363418, 3.7030665263442426, 3.7029414492552895, 8.84808691950434, 8.94009538749375, 8.24950007724164, 8.253808001876441, 16.422954392165988, 7.625751635510268, 9.83325414217794, 16.115969075963566, 20.24195642992037, 13.494545736240292, 27.286665381246127, 58.06471153611864, 13.82694106946734, 22.611843566856688, 28.72489547497054, 21.239000251652936, 17.40067811474674, 11.617134026056982, 19442.141416644783, 15350.054371645809, 8775.883143396757, 10888.443680548047, 6691.096889123313, 18168.92148476415, 31.66401486490726, 8416.55007997171, 106.5136925490969, 1532.7316739723938, 6203.636061505313, 1299.6375878817187, 3115.388706234415, 2149.0398550500026, 3278.0299066142347, 2360.129725759846, 2153.31793677129, 1607.7066436094192, 977.5799071609508, 2261.718972421706, 1119.2454203269328, 2330.599630175646, 1217.7119453349046, 1938.0268710275893, 449.51281104184795, 2854.259373673936, 2388.7250608317468, 1008.1660298997181, 1602.8276226301393, 863.1362192177884, 643.3584366796562, 1666.4189433265378, 1.27988189410184, 1.2798846739043293, 1.2798367512743165, 1.2799009012758533, 1.2799248711447748, 1.2799123276245163, 1.279899284002228, 1.2798971196893578, 1.2799335259861568, 1.2799409039903933, 1.2799250911286453, 1.2799185003603164, 1.2799482112067182, 1.2799280108578073, 1.2799422870118413, 1.2799312223332904, 1.2799381146019588, 1.2799450562346377, 1.2799123202623857, 1.279954048105508, 1.279966843457048, 1.2799570441787749, 1.2799101689001153, 1.2799269624843865, 1.2799185379916, 1.2799935871600954, 1.2799556242449308, 1.279931575164075, 1.279966696935355, 1.2799637521990468, 1.279977574811942, 15350.054371645809, 8775.883143396757, 19442.141416644783, 18168.92148476415, 8416.55007997171, 6691.096889123313, 10888.443680548047, 2360.129725759846, 2388.7250608317468, 6203.636061505313, 1375.048176904704, 1495.1001798253778, 2149.0398550500026, 3278.0299066142347, 3115.388706234415, 2378.505665100512, 2153.31793677129, 2854.259373673936, 2261.718972421706, 1621.8619693805529, 1938.0268710275893, 1929.6546405369465, 1514.7563614774224, 2330.599630175646, 1666.4189433265378, 759.1894159890317, 1166.7801415127606, 827.7624767015809, 977.5799071609508, 1299.6375878817187, 1309.4619101098147], \"Category\": [\"Default\", \"Default\", \"Default\", \"Default\", \"Default\", \"Default\", \"Default\", \"Default\", \"Default\", \"Default\", \"Default\", \"Default\", \"Default\", \"Default\", \"Default\", \"Default\", \"Default\", \"Default\", \"Default\", \"Default\", \"Default\", \"Default\", \"Default\", \"Default\", \"Default\", \"Default\", \"Default\", \"Default\", \"Default\", \"Default\", \"Topic1\", \"Topic1\", \"Topic1\", \"Topic1\", \"Topic1\", \"Topic1\", \"Topic1\", \"Topic1\", \"Topic1\", \"Topic1\", \"Topic1\", \"Topic1\", \"Topic1\", \"Topic1\", \"Topic1\", \"Topic1\", \"Topic1\", \"Topic1\", \"Topic1\", \"Topic1\", \"Topic1\", \"Topic1\", \"Topic1\", \"Topic1\", \"Topic1\", \"Topic1\", \"Topic1\", \"Topic1\", \"Topic1\", \"Topic1\", \"Topic1\", \"Topic1\", \"Topic1\", \"Topic1\", \"Topic1\", \"Topic1\", \"Topic1\", \"Topic1\", \"Topic1\", \"Topic1\", \"Topic1\", \"Topic1\", \"Topic1\", \"Topic1\", \"Topic1\", \"Topic1\", \"Topic1\", \"Topic1\", \"Topic1\", \"Topic1\", \"Topic1\", \"Topic1\", \"Topic1\", \"Topic1\", \"Topic1\", \"Topic1\", \"Topic1\", \"Topic1\", \"Topic1\", \"Topic1\", \"Topic1\", \"Topic1\", \"Topic1\", \"Topic1\", \"Topic1\", \"Topic1\", \"Topic1\", \"Topic1\", \"Topic1\", \"Topic1\", \"Topic1\", \"Topic1\", \"Topic1\", \"Topic1\", \"Topic1\", \"Topic1\", \"Topic1\", \"Topic1\", \"Topic1\", \"Topic1\", \"Topic1\", \"Topic1\", \"Topic1\", \"Topic1\", \"Topic1\", \"Topic1\", \"Topic1\", \"Topic1\", \"Topic1\", \"Topic2\", \"Topic2\", \"Topic2\", \"Topic2\", \"Topic2\", \"Topic2\", \"Topic2\", \"Topic2\", \"Topic2\", \"Topic2\", \"Topic2\", \"Topic2\", \"Topic2\", \"Topic2\", \"Topic2\", \"Topic2\", \"Topic2\", \"Topic2\", \"Topic2\", \"Topic2\", \"Topic2\", \"Topic2\", \"Topic2\", \"Topic2\", \"Topic2\", \"Topic2\", \"Topic2\", \"Topic2\", \"Topic2\", \"Topic2\", \"Topic2\", \"Topic2\", \"Topic2\", \"Topic2\", \"Topic2\", \"Topic2\", \"Topic2\", \"Topic2\", \"Topic2\", \"Topic2\", \"Topic2\", \"Topic2\", \"Topic2\", \"Topic2\", \"Topic2\", \"Topic2\", \"Topic2\", \"Topic2\", \"Topic2\", \"Topic2\", \"Topic2\", \"Topic2\", \"Topic2\", \"Topic2\", \"Topic2\", \"Topic2\", \"Topic2\", \"Topic2\", \"Topic2\", \"Topic2\", \"Topic2\", \"Topic2\", \"Topic2\", \"Topic2\", \"Topic2\", \"Topic2\", \"Topic2\", \"Topic2\", \"Topic2\", \"Topic2\", \"Topic2\", \"Topic2\", \"Topic2\", \"Topic2\", \"Topic2\", \"Topic2\", \"Topic2\", \"Topic2\", \"Topic2\", \"Topic2\", \"Topic2\", \"Topic3\", \"Topic3\", \"Topic3\", \"Topic3\", \"Topic3\", \"Topic3\", \"Topic3\", \"Topic3\", \"Topic3\", \"Topic3\", \"Topic3\", \"Topic3\", \"Topic3\", \"Topic3\", \"Topic3\", \"Topic3\", \"Topic3\", \"Topic3\", \"Topic3\", \"Topic3\", \"Topic3\", \"Topic3\", \"Topic3\", \"Topic3\", \"Topic3\", \"Topic3\", \"Topic3\", \"Topic3\", \"Topic3\", \"Topic3\", \"Topic3\", \"Topic3\", \"Topic3\", \"Topic3\", \"Topic3\", \"Topic3\", \"Topic3\", \"Topic3\", \"Topic3\", \"Topic3\", \"Topic3\", \"Topic3\", \"Topic3\", \"Topic3\", \"Topic3\", \"Topic3\", \"Topic3\", \"Topic3\", \"Topic3\", \"Topic3\", \"Topic3\", \"Topic3\", \"Topic3\", \"Topic3\", \"Topic3\", \"Topic3\", \"Topic3\", \"Topic3\", \"Topic3\", \"Topic3\", \"Topic3\", \"Topic3\", \"Topic3\", \"Topic3\", \"Topic3\", \"Topic3\", \"Topic3\", \"Topic3\", \"Topic3\", \"Topic3\", \"Topic3\", \"Topic3\", \"Topic3\", \"Topic3\", \"Topic3\", \"Topic3\", \"Topic3\", \"Topic3\", \"Topic3\", \"Topic3\", \"Topic3\", \"Topic3\", \"Topic3\", \"Topic3\", \"Topic4\", \"Topic4\", \"Topic4\", \"Topic4\", \"Topic4\", \"Topic4\", \"Topic4\", \"Topic4\", \"Topic4\", \"Topic4\", \"Topic4\", \"Topic4\", \"Topic4\", \"Topic4\", \"Topic4\", \"Topic4\", \"Topic4\", \"Topic4\", \"Topic4\", \"Topic4\", \"Topic4\", \"Topic4\", \"Topic4\", \"Topic4\", \"Topic4\", \"Topic4\", \"Topic4\", \"Topic4\", \"Topic4\", \"Topic4\", \"Topic4\", \"Topic4\", \"Topic4\", \"Topic4\", \"Topic4\", \"Topic4\", \"Topic4\", \"Topic4\", \"Topic4\", \"Topic4\", \"Topic4\", \"Topic4\", \"Topic4\", \"Topic4\", \"Topic4\", \"Topic4\", \"Topic4\", \"Topic4\", \"Topic4\", \"Topic4\", \"Topic4\", \"Topic4\", \"Topic4\", \"Topic4\", \"Topic4\", \"Topic4\", \"Topic4\", \"Topic4\", \"Topic4\", \"Topic4\", \"Topic4\", \"Topic4\", \"Topic4\", \"Topic4\", \"Topic4\", \"Topic4\", \"Topic4\", \"Topic4\", \"Topic4\", \"Topic4\", \"Topic4\", \"Topic4\", \"Topic4\", \"Topic4\", \"Topic4\", \"Topic4\", \"Topic4\", \"Topic4\", \"Topic4\", \"Topic4\", \"Topic5\", \"Topic5\", \"Topic5\", \"Topic5\", \"Topic5\", \"Topic5\", \"Topic5\", \"Topic5\", \"Topic5\", \"Topic5\", \"Topic5\", \"Topic5\", \"Topic5\", \"Topic5\", \"Topic5\", \"Topic5\", \"Topic5\", \"Topic5\", \"Topic5\", \"Topic5\", \"Topic5\", \"Topic5\", \"Topic5\", \"Topic5\", \"Topic5\", \"Topic5\", \"Topic5\", \"Topic5\", \"Topic5\", \"Topic5\", \"Topic5\", \"Topic5\", \"Topic5\", \"Topic5\", \"Topic5\", \"Topic5\", \"Topic5\", \"Topic5\", \"Topic5\", \"Topic5\", \"Topic5\", \"Topic5\", \"Topic5\", \"Topic5\", \"Topic5\", \"Topic5\", \"Topic5\", \"Topic5\", \"Topic5\", \"Topic5\", \"Topic5\", \"Topic5\", \"Topic5\", \"Topic5\", \"Topic5\", \"Topic5\", \"Topic5\", \"Topic5\", \"Topic5\", \"Topic5\", \"Topic5\", \"Topic5\"], \"logprob\": [30.0, 29.0, 28.0, 27.0, 26.0, 25.0, 24.0, 23.0, 22.0, 21.0, 20.0, 19.0, 18.0, 17.0, 16.0, 15.0, 14.0, 13.0, 12.0, 11.0, 10.0, 9.0, 8.0, 7.0, 6.0, 5.0, 4.0, 3.0, 2.0, 1.0, -8.049, -8.67, -8.64, -8.775, -8.8126, -8.4965, -7.9954, -9.0251, -8.9371, -8.8565, -9.1227, -8.9388, -8.7143, -9.1765, -8.503, -8.7167, -8.2028, -9.2946, -9.3573, -9.3573, -9.2383, -7.3969, -9.0822, -9.1315, -9.4248, -9.1332, -7.03, -9.2407, -9.427, -9.4981, -7.7647, -8.4348, -8.4895, -7.9452, -8.523, -8.0072, -8.955, -8.5352, -7.6782, -8.1742, -7.7281, -7.0938, -8.0422, -7.7025, -7.5171, -8.1803, -8.205, -4.4726, -6.6954, -2.8214, -7.4465, -6.3212, -7.6477, -8.1183, -4.832, -3.4358, -6.6296, -3.7043, -4.0317, -3.2544, -6.5386, -5.2601, -4.9014, -5.2329, -4.6216, -4.0093, -5.7054, -3.1862, -4.7677, -5.5597, -3.8528, -5.4885, -5.1323, -5.501, -6.0801, -6.4236, -5.1481, -5.7532, -5.5683, -5.6535, -5.2569, -5.3357, -5.8001, -5.7014, -5.9934, -5.6976, -5.5771, -5.5953, -5.6033, -8.1147, -8.1955, -5.6828, -8.3046, -8.3524, -8.1572, -8.1981, -8.6295, -8.6305, -8.4838, -8.6304, -8.5123, -8.696, -8.6319, -8.6327, -8.8046, -8.8047, -8.7683, -8.769, -8.8436, -8.844, -6.3967, -8.6994, -5.3916, -8.8839, -8.884, -8.8451, -8.9701, -8.9703, -8.9703, -8.0985, -8.8101, -8.0481, -6.3763, -7.9445, -8.4206, -7.6799, -7.7878, -7.6599, -7.3204, -4.8878, -6.0796, -8.4985, -5.1732, -7.5488, -6.5795, -7.5509, -5.8705, -7.2399, -7.2339, -4.6145, -4.6191, -4.6402, -5.1439, -2.8459, -5.0012, -5.6724, -5.7778, -5.1173, -3.1485, -5.112, -3.6718, -6.6039, -6.4498, -5.588, -3.1036, -4.0118, -5.1845, -3.9036, -3.704, -5.1331, -4.2508, -5.0784, -4.95, -4.9665, -5.2115, -5.3023, -5.4451, -5.3355, -5.5126, -5.6378, -7.2324, -6.9201, -7.601, -7.7617, -7.8856, -8.1058, -8.1058, -8.191, -8.2858, -8.388, -8.3931, -8.5031, -8.5031, -8.5035, -8.5033, -8.5046, -7.508, -8.6329, -8.633, -8.6333, -8.6334, -8.6337, -8.6341, -8.6345, -8.6384, -8.64, -8.7827, -8.7827, -8.7829, -8.7831, -7.0181, -7.8222, -7.7681, -6.4219, -6.4557, -6.2488, -8.0273, -7.026, -7.6846, -7.1134, -7.7052, -7.1044, -7.789, -6.7462, -5.8897, -7.7897, -7.7731, -7.5075, -7.0765, -6.5334, -3.33, -3.5775, -3.9508, -3.3278, -3.3741, -6.8125, -3.9605, -3.9515, -4.6077, -5.68, -6.8921, -5.2613, -4.5139, -4.945, -5.3352, -6.017, -5.201, -5.3596, -5.5715, -5.3148, -5.379, -5.6487, -5.5061, -5.4057, -5.3391, -5.6589, -5.7274, -5.7948, -5.7649, -5.822, -5.8892, -5.8903, -5.862, -5.8789, -7.0428, -7.1839, -7.263, -7.5452, -7.5455, -7.5459, -7.66, -7.6603, -7.6601, -7.6604, -7.6607, -7.6609, -7.6612, -7.6614, -7.3733, -7.79, -7.7914, -7.9397, -7.9398, -7.94, -7.9399, -7.94, -7.9402, -7.9411, -6.5774, -8.1157, -8.1158, -8.1158, -8.1157, -8.1161, -7.2635, -7.2646, -7.3492, -7.3498, -6.7169, -7.4426, -7.268, -6.8815, -6.7102, -7.0454, -6.5401, -5.9933, -7.1141, -6.8118, -6.6619, -6.8749, -7.0463, -7.2651, -3.4133, -3.5629, -3.88, -3.8711, -4.2582, -3.9088, -6.8129, -4.4956, -6.3634, -5.322, -4.8132, -5.421, -5.1205, -5.2848, -5.1451, -5.2815, -5.3928, -5.5606, -5.8066, -5.6481, -5.8473, -5.7708, -6.0105, -5.926, -6.2442, -5.9213, -5.9882, -6.1315, -6.1479, -6.2134, -6.2444, -6.1898, -10.3101, -10.3102, -10.3102, -10.3103, -10.3104, -10.3104, -10.3104, -10.3104, -10.3104, -10.3104, -10.3105, -10.3105, -10.3105, -10.3105, -10.3105, -10.3105, -10.3105, -10.3105, -10.3106, -10.3106, -10.3106, -10.3106, -10.3106, -10.3106, -10.3106, -10.3106, -10.3106, -10.3107, -10.3106, -10.3106, -10.3106, -8.0068, -8.5642, -8.4721, -8.5922, -8.7914, -8.8479, -8.9121, -9.2123, -9.2416, -9.2806, -9.5386, -9.5577, -9.5331, -9.4991, -9.5141, -9.567, -9.597, -9.5974, -9.6661, -9.6976, -9.6984, -9.724, -9.7618, -9.7322, -9.7626, -9.8346, -9.8518, -9.8764, -9.8692, -9.8542, -9.8673], \"loglift\": [30.0, 29.0, 28.0, 27.0, 26.0, 25.0, 24.0, 23.0, 22.0, 21.0, 20.0, 19.0, 18.0, 17.0, 16.0, 15.0, 14.0, 13.0, 12.0, 11.0, 10.0, 9.0, 8.0, 7.0, 6.0, 5.0, 4.0, 3.0, 2.0, 1.0, 0.7612, 0.7545, 0.7527, 0.7525, 0.7518, 0.75, 0.7496, 0.7472, 0.7471, 0.7465, 0.7463, 0.7456, 0.7448, 0.7447, 0.7439, 0.7433, 0.7423, 0.7404, 0.7395, 0.7395, 0.7389, 0.7389, 0.7384, 0.7383, 0.7379, 0.7372, 0.7371, 0.7368, 0.7362, 0.7354, 0.7328, 0.7345, 0.732, 0.7232, 0.7264, 0.7081, 0.7308, 0.7174, 0.6903, 0.6997, 0.6807, 0.6508, 0.6898, 0.6692, 0.643, 0.692, 0.6895, 0.3434, 0.5523, 0.1634, 0.6171, 0.488, 0.6306, 0.681, 0.3042, 0.1288, 0.5127, 0.1178, 0.0954, -0.0332, 0.4574, 0.2652, 0.2048, 0.2476, 0.1435, 0.0422, 0.3136, -0.1336, 0.1358, 0.2799, -0.0725, 0.2346, 0.1584, 0.1893, 0.3133, 0.3828, 0.0372, 0.191, 0.1144, 0.1333, -0.0696, -0.0407, 0.1262, 0.054, 0.131, -0.256, -0.4956, -0.5094, -0.5097, 0.8475, 0.8459, 0.8454, 0.845, 0.8441, 0.8438, 0.8433, 0.841, 0.8404, 0.8404, 0.8403, 0.8396, 0.8396, 0.839, 0.8378, 0.8377, 0.8376, 0.8372, 0.837, 0.837, 0.8363, 0.8363, 0.8363, 0.8362, 0.8362, 0.836, 0.8359, 0.8344, 0.8342, 0.8341, 0.8294, 0.834, 0.826, 0.8087, 0.8104, 0.8245, 0.7921, 0.7965, 0.7906, 0.7763, 0.6624, 0.6991, 0.8245, 0.6249, 0.7705, 0.6879, 0.7608, 0.624, 0.7326, 0.7303, 0.4714, 0.4625, 0.4534, 0.4899, 0.2067, 0.4675, 0.5397, 0.5195, 0.4198, 0.0727, 0.3656, 0.1085, 0.5902, 0.556, 0.387, -0.1187, 0.0397, 0.2571, -0.0815, -0.1394, 0.1618, -0.1236, 0.1089, -0.0465, -0.2014, -0.0262, -0.1962, -0.1545, -0.5195, -0.3764, 0.1754, 2.4281, 2.4255, 2.4189, 2.4137, 2.4088, 2.399, 2.3989, 2.3951, 2.3884, 2.3835, 2.3782, 2.3758, 2.3758, 2.3755, 2.3755, 2.374, 2.3728, 2.3663, 2.3662, 2.3661, 2.3659, 2.3656, 2.3654, 2.3648, 2.3609, 2.3589, 2.3535, 2.3534, 2.3533, 2.3531, 2.3419, 2.3479, 2.3414, 2.2958, 2.2941, 2.2559, 2.3209, 2.2201, 2.2625, 2.1781, 2.2473, 2.1199, 2.2, 1.9339, 1.694, 2.1929, 2.1749, 2.0952, 1.9251, 1.6902, -0.1088, -0.0129, 0.1764, -0.3429, -0.3215, 1.6277, -0.1383, -0.1712, 0.1573, 0.7379, 1.6096, 0.2639, -0.4623, -0.129, 0.1423, 0.7699, -0.0157, -0.0689, 0.1112, -0.2086, -0.1917, 0.1645, -0.0644, -0.2696, -0.4356, 0.0314, 0.1123, -0.0394, -0.2844, -0.099, 0.1298, -0.2565, -0.7761, -0.584, 3.5394, 3.5303, 3.525, 3.5025, 3.5018, 3.501, 3.492, 3.4914, 3.4914, 3.4911, 3.4906, 3.4902, 3.4898, 3.4898, 3.4824, 3.4781, 3.4757, 3.46, 3.4598, 3.4596, 3.4595, 3.4592, 3.4591, 3.4575, 3.4534, 3.4355, 3.4353, 3.4352, 3.4352, 3.4348, 3.4164, 3.4049, 3.4007, 3.3996, 3.3445, 3.3859, 3.3063, 3.1988, 3.1421, 3.2124, 3.0135, 2.8053, 3.1193, 2.9298, 2.8405, 2.9293, 2.9572, 3.1425, -0.4284, -0.3417, -0.0997, -0.3065, -0.2067, -0.8562, 2.592, -0.6735, 1.8283, 0.2032, -0.686, 0.2693, -0.3046, -0.0976, -0.38, -0.1879, -0.2075, -0.0831, 0.1684, -0.5119, -0.0077, -0.6646, -0.2551, -0.6354, 0.5077, -1.0178, -0.9067, -0.1873, -0.6674, -0.1139, 0.149, -0.7482, 2.3032, 2.3031, 2.3031, 2.303, 2.3029, 2.3029, 2.3029, 2.3029, 2.3028, 2.3028, 2.3028, 2.3028, 2.3028, 2.3028, 2.3028, 2.3028, 2.3028, 2.3027, 2.3027, 2.3027, 2.3027, 2.3027, 2.3026, 2.3026, 2.3026, 2.3026, 2.3026, 2.3026, 2.3026, 2.3026, 2.3026, -4.7856, -4.7839, -5.4873, -5.5396, -4.9693, -4.7963, -5.3474, -4.1187, -4.16, -5.1534, -3.9048, -4.0075, -4.3458, -4.7341, -4.6981, -4.4811, -4.4117, -4.6939, -4.5299, -4.2289, -4.4078, -4.4291, -4.2248, -4.626, -4.3209, -3.6068, -4.0537, -3.7351, -3.8942, -4.164, -4.1846]}, \"token.table\": {\"Topic\": [1, 2, 3, 4, 1, 2, 3, 4, 1, 2, 3, 4, 1, 2, 3, 4, 1, 2, 3, 4, 1, 2, 3, 4, 4, 4, 4, 4, 4, 4, 4, 1, 2, 3, 4, 1, 2, 3, 4, 1, 2, 3, 4, 1, 2, 3, 4, 1, 2, 3, 4, 3, 4, 1, 2, 2, 1, 2, 3, 3, 1, 2, 3, 4, 1, 2, 1, 2, 3, 1, 2, 1, 2, 3, 1, 4, 1, 4, 3, 2, 1, 2, 3, 2, 3, 4, 3, 3, 1, 2, 4, 1, 4, 3, 2, 1, 2, 3, 3, 1, 2, 4, 2, 1, 2, 3, 4, 2, 1, 2, 1, 2, 4, 2, 2, 3, 3, 1, 2, 3, 1, 3, 4, 2, 2, 2, 1, 2, 1, 1, 2, 1, 2, 2, 1, 2, 3, 2, 1, 2, 3, 4, 1, 2, 4, 2, 2, 1, 2, 1, 3, 2, 1, 1, 2, 3, 2, 4, 2, 3, 1, 1, 2, 3, 3, 1, 2, 1, 1, 2, 3, 4, 4, 4, 4, 1, 2, 3, 4, 2, 4, 1, 2, 3, 4, 4, 1, 2, 3, 1, 2, 3, 4, 1, 2, 3, 4, 1, 2, 4, 1, 2, 3, 1, 2, 3, 4, 1, 2, 1, 3, 1, 2, 3, 4, 1, 2, 3, 4, 1, 1, 2, 3, 4, 1, 2, 3, 4, 1, 1, 1, 2, 3, 4, 2, 3, 1, 2, 4, 2, 4, 4, 1, 2, 4, 1, 2, 3, 4, 3, 1, 4, 4, 1, 2, 3, 4, 1, 2, 3, 4, 1, 4, 1, 2, 3, 4, 1, 4, 1, 2, 3, 3, 1, 2, 3, 4, 3, 2, 3, 4, 2, 4, 3, 3, 1, 2, 3, 4, 4, 1, 2, 4, 3, 1, 2, 3, 1, 2, 3, 4, 1, 2, 3, 1, 2, 3, 4, 1, 2, 4, 1, 2, 3, 1, 2, 3, 4, 1, 2, 3, 1, 2, 3, 4, 1, 2, 1, 2, 3, 4, 4, 4, 4, 1, 2, 3, 4, 1, 3, 3, 1, 4, 1, 2, 4, 1, 2, 3, 4, 2, 2, 1, 2, 3, 4, 1, 2, 3, 4, 1, 2, 3, 4, 4, 1, 2, 3, 2, 1, 2, 3, 4, 1, 2, 3, 4, 4, 1, 2, 3, 4, 1, 2, 3, 1, 4, 1, 2, 3, 4, 1, 2, 3, 4, 1, 3, 3, 1, 2, 3, 4, 4, 2, 3, 1, 2, 3, 4, 2, 3, 4, 1, 2, 3, 1, 2, 3, 4, 4, 1, 2, 3, 4, 3, 1, 2, 3, 4, 1, 2, 3, 4, 3, 1, 2, 3, 1, 2, 3, 2, 4, 1, 2, 3, 1, 2, 1, 1, 2, 3, 4, 4, 1, 2, 1, 2, 3, 4, 1, 2, 3, 4, 1, 2, 3, 4, 2, 1, 2, 3, 1, 1, 2, 3, 2, 3, 4, 4, 1, 2, 3, 1, 1, 2, 2, 4, 4, 4, 1, 2, 3, 1, 2, 3, 2, 4, 4, 3, 1, 2, 3, 1, 2, 3, 2, 1, 3, 1, 2, 3, 4, 4, 2, 4, 2, 2, 4, 4, 4, 4, 4, 3, 1, 4, 4, 1, 2, 3, 1, 1, 2, 3, 1, 2, 3, 4, 1, 2, 3, 4, 4, 4, 1, 2, 3, 4, 1, 2, 3, 1, 2, 3, 4, 3, 4, 2, 4, 3, 4, 1, 2, 3, 1, 2, 1, 2, 3, 4, 1, 2, 3, 4, 1, 2, 3, 1, 2, 3, 4, 1, 2, 3, 4, 1, 2, 3, 4, 1, 2, 3, 4, 1, 2, 3, 4, 1, 3, 1, 2, 3, 4, 1, 2, 3, 4, 1, 2, 3, 4], \"Freq\": [0.07998173498685585, 0.8523767757170637, 0.03884827127932998, 0.027422309138350576, 0.27795082314333386, 0.6669124933347674, 0.032625325277494975, 0.02245639272347057, 0.49470754498862995, 0.3869609368295138, 0.09384382000955276, 0.0243298792617359, 0.4045919845140122, 0.5212747497391116, 0.06252434966778912, 0.011613237482309424, 0.38110250588449823, 0.5055263833764692, 0.10180135431161254, 0.01218135863557757, 0.4473599789121614, 0.4558941506374407, 0.07739386266894535, 0.019413612016284273, 0.8141183791864891, 0.810289828251238, 0.906074024445555, 0.781303519130902, 0.7812770857504675, 0.7812780478175173, 0.7812997236286321, 0.48905677787322044, 0.3201967829072225, 0.18001112670903555, 0.0111511317430376, 0.26435170974092875, 0.6108079505072754, 0.09952064366717318, 0.024880160916793296, 0.2407188384810604, 0.6916121311041947, 0.0669067466473038, 0.0007272472461663456, 0.527237476170476, 0.3403684972746111, 0.08676059734450871, 0.04449261402282498, 0.46499843512018296, 0.01722216426371048, 0.06888865705484191, 0.4477762708564725, 0.9333786899403888, 0.7813496518241981, 0.9184756031228667, 0.06445442828932398, 0.9718721680386423, 0.08458579153098755, 0.1691715830619751, 0.761272123778888, 0.9908881081396119, 0.9349835123538583, 0.04754153452646737, 0.015847178175489127, 0.7813220927714992, 0.918652619548989, 0.07842156508345027, 0.9525997776591023, 0.030241262782828644, 0.015120631391414322, 0.9707831634378418, 0.026966198984384494, 0.9771185369824752, 0.019941194632295413, 0.019941194632295413, 0.9605579657651451, 0.7812905746253697, 0.9462217419079523, 0.9795799653267474, 0.9224514083943628, 0.9880404969910836, 0.9492394973260819, 0.02712112849503091, 0.02712112849503091, 0.18615076672456518, 0.12410051114971012, 0.6825528113234056, 0.9333443395605122, 0.9652269082256572, 0.1724070740356698, 0.3448141480713396, 0.5172212221070094, 0.11185562979550469, 0.7829894085685328, 0.8918914648929235, 0.9939919578176629, 0.2682784454623371, 0.7130558682025275, 0.01835589363689675, 0.990749015240535, 0.1016957342443417, 0.2033914684886834, 0.7118701397103918, 0.9911104048825011, 0.16052436033285147, 0.822018495204477, 0.01672128753467203, 0.0006688515013868812, 0.9905693464074202, 0.032975644573125386, 0.9562936926206362, 0.07465977645133783, 0.9172486821164362, 0.7812997465998693, 0.9986167405590946, 0.2636345856534859, 0.711813381264412, 0.9786704269447594, 0.8822771629227688, 0.05457384512924343, 0.07276512683899124, 0.06389194312684238, 0.8944872037757933, 0.7812919808120775, 0.9982850488412214, 0.9780195989861483, 0.9890355480995078, 0.02909801082742549, 0.9602343573050411, 0.9677711095192736, 0.06212417598468142, 0.9318626397702213, 0.9462210111004815, 0.02703488603144233, 0.9744127620309877, 0.03087303918977179, 0.9502035395074206, 0.017151688438762105, 0.9955382243866073, 0.5820847866242309, 0.15960389310664394, 0.09388464300390821, 0.16899235740703478, 0.34739751250531187, 0.284234328413437, 0.3789791045512493, 0.9628214538340691, 0.9610824007994869, 0.9932315774374145, 0.9880577653030554, 0.9671929302054446, 0.9332914537917308, 0.9782529597361537, 0.9603951436247461, 0.8884128311953705, 0.08403905159956207, 0.030013946999843596, 0.971829525062789, 0.9792712173542737, 0.9573706063054115, 0.9329227145914765, 0.9983487932286018, 0.017994887381100323, 0.9789218735318576, 0.9653660291813188, 0.9334931363425315, 0.9619389963599737, 0.041823434624346685, 0.9527247127792146, 0.8035814753428768, 0.1643689381383157, 0.025568501488182443, 0.007305286139480698, 0.905802049357376, 0.7812957234225281, 0.7812877736756708, 0.5676650690536204, 0.34840819053026434, 0.06993908258181414, 0.014159446166870348, 0.9953994632561393, 0.7812917654381716, 0.7724013706263491, 0.19720886058545084, 0.026294514744726778, 0.0032868143430908473, 0.9284250048205225, 0.054361892226375684, 0.21744756890550274, 0.7610664911692596, 0.2817402517498868, 0.6731624440027013, 0.033909302216553985, 0.01088446737815313, 0.48243211142963166, 0.4410338168614755, 0.05440064701375029, 0.022268396717167013, 0.08844922326154335, 0.3980215046769451, 0.5306953395692601, 0.9098197710943864, 0.046657424158686484, 0.03499306811901486, 0.9289021414927938, 0.03791437312215485, 0.03791437312215485, 0.7812702376720254, 0.9731826979673237, 0.02495340251198266, 0.16295211521047429, 0.8147605760523714, 0.5241788601379153, 0.3897240595820931, 0.0740475713205977, 0.01071741163850756, 0.430156137942701, 0.472431085539189, 0.07269923602846179, 0.02472685614134202, 0.9626061532958718, 0.6028452440114722, 0.2511855183381134, 0.11221794585494937, 0.03327392580582801, 0.5417881535580898, 0.3632560572427574, 0.08049423995720192, 0.014447684094882396, 0.9518350432354235, 0.9557953321774706, 0.35825324861481533, 0.5484815230049266, 0.08101204114405372, 0.013201962260512458, 0.9782881843411688, 0.9261057566932847, 0.1465917489041795, 0.293183497808359, 0.5497190583906731, 0.12121946671153519, 0.8485362669807464, 0.8101667393642802, 0.24701169658725863, 0.1482070179523552, 0.6422304111268725, 0.6269567604509658, 0.2909291596450885, 0.06587909542115226, 0.01635923846028613, 0.9653500023132549, 0.9703416227730972, 0.928261230102803, 0.9054427221954318, 0.43853159597963537, 0.5098080812766009, 0.04349073679136879, 0.009664608175859733, 0.5920786406480509, 0.3287939342692548, 0.06488533048197818, 0.013725742986572307, 0.9488444010659957, 0.7812945811055986, 0.6326178018283379, 0.25646667641689375, 0.0792715181652217, 0.03108686986871439, 0.946224129598063, 0.7812539141064656, 0.05461033104710257, 0.10922066209420514, 0.8191549657065386, 0.965421765825643, 0.11120243239689474, 0.03177212354196993, 0.857847335633188, 0.9276143341577667, 0.9333173377196449, 0.9800774543771194, 0.01960154908754239, 0.7812816106498662, 0.3616128813220303, 0.6509031863796545, 0.8918998725405486, 0.9332919980047564, 0.0682966467710112, 0.9220047314086511, 0.0085370808463764, 0.7812958577057669, 0.7812860710071545, 0.18267115211810173, 0.060890384039367244, 0.7915749925117741, 0.8918559785211256, 0.27429340919617706, 0.12659695809054325, 0.5907858044225353, 0.07698289133434497, 0.23094867400303487, 0.6928460220091046, 0.03849144566717248, 0.16991466899115687, 0.05663822299705229, 0.7929351219587321, 0.28249917269684327, 0.14124958634842164, 0.047083195449473876, 0.5179151499442126, 0.08467644074862216, 0.9102717380476882, 0.01058455509357777, 0.9270570302861655, 0.05562342181716993, 0.01854114060572331, 0.051352753356483594, 0.08986731837384629, 0.8216440537037375, 0.025676376678241797, 0.9675759291194792, 0.01775368677283448, 0.01775368677283448, 0.5338572404324142, 0.34654961436069864, 0.10097528376178808, 0.018608738095072727, 0.9727378985152664, 0.026290213473385577, 0.382943081884662, 0.1392520297762407, 0.03481300744406018, 0.45256909677278234, 0.9052548425933387, 0.8133168454218616, 0.9051465395770424, 0.48780009285088644, 0.40814250193079216, 0.08294244003020122, 0.021351519215695364, 0.9577017136938543, 0.9485641215205639, 0.9554288297806972, 0.9552171208323281, 0.9788565522414855, 0.9571329550623493, 0.13113461436947077, 0.7868076862168246, 0.1876960296187942, 0.7919229742820358, 0.018855308911477044, 0.0017141189919524585, 0.9780273685065116, 0.9884541469863812, 0.6328182114363786, 0.2565479235552886, 0.09834337069619398, 0.012827396177764431, 0.5185336012889885, 0.37190848870064425, 0.09622273013610097, 0.012982431843759655, 0.3089042159311189, 0.6763830835857034, 0.013564656188592046, 0.001233150562599277, 0.9357753918305097, 0.019757915065845323, 0.9786753929282049, 0.002634388675446043, 0.9786000659108374, 0.20294317938897258, 0.7911344281265033, 0.0034397149048978402, 0.0017198574524489201, 0.33998866952946355, 0.6449882138452153, 0.012543271303028753, 0.0019805165215308557, 0.7812703271064132, 0.5087339051985258, 0.3746190100384582, 0.1028429123943788, 0.013701641933420373, 0.4351582994827702, 0.12798773514199124, 0.4351582994827702, 0.9668742407487544, 0.8103334983801058, 0.6519250698751101, 0.2522959650033661, 0.07575298694757557, 0.020222195668208733, 0.444120922986266, 0.4985348050324246, 0.04819515266945477, 0.009328094065055761, 0.9631383452030673, 0.8918632087724178, 0.9332989345241602, 0.8991227269100295, 0.07867323860462758, 0.011239034086375369, 0.7813104897442938, 0.9285565212504446, 0.06788420784813098, 0.8824947020257028, 0.24088659098978646, 0.7398659580400584, 0.014338487558915862, 0.005735395023566344, 0.059056363977817466, 0.059056363977817466, 0.8858454596672619, 0.04864121810172334, 0.9363434484581742, 0.012160304525430835, 0.1835933482675523, 0.13769501120066424, 0.596678381869545, 0.07649722844481346, 0.7812939411567377, 0.26478727316714196, 0.28885884345506396, 0.43328826518259594, 0.012035785143961, 0.9822046626464407, 0.7538368538751707, 0.15312311094339406, 0.08009516572423689, 0.01413444101015945, 0.15273180560637, 0.8418875138302346, 0.0037251659903992686, 0.9432975146577031, 0.9930779288133157, 0.03019562615191973, 0.06039125230383946, 0.9058687845575919, 0.05560701383618841, 0.9453192352152029, 0.013901753459047102, 0.1211561984204936, 0.8480933889434552, 0.22848257976055908, 0.765070456470963, 0.00692371453819876, 0.026917229995851485, 0.9690202798506534, 0.9402460954071958, 0.5279966796784704, 0.39917565991743104, 0.061867989753657045, 0.010170080507450472, 0.9285245262161539, 0.9559252654575658, 0.03823701061830263, 0.5259704846736869, 0.3687395662589232, 0.08513613397808761, 0.02011306725048672, 0.47972479231231974, 0.4128512491439034, 0.08498512777652906, 0.022291181056138767, 0.5586172689751984, 0.31624200764298416, 0.08925565179218045, 0.03539448260724397, 0.9610037267541744, 0.4395673013642944, 0.08689121073480238, 0.47023478750598935, 0.9543995715295491, 0.03280632760655716, 0.11482214662295007, 0.8529645177704862, 0.11255945744538634, 0.7879162021177044, 0.05627972872269317, 0.9282007368777501, 0.8589550080430223, 0.041295913848222225, 0.09911019323573333, 0.9434064143083044, 0.8701394030177572, 0.122843209837801, 0.9654098746963385, 0.9053337259894739, 0.7813127982057719, 0.7813035146367984, 0.2359777476447053, 0.7273819583993388, 0.0363042688684162, 0.455532931188604, 0.07753752020231558, 0.4652251212138935, 0.296416054173487, 0.6669361218903457, 0.7813048324003435, 0.9333154238586876, 0.9285349987931684, 0.055712099927590096, 0.018570699975863365, 0.010671733285364918, 0.9871353288962549, 0.0017786222142274863, 0.9889776433861006, 0.9795113217945077, 0.01632518869657513, 0.7298477361402002, 0.15903296974261172, 0.08519623379068485, 0.025558870137205453, 0.8101393746662372, 0.9783705711112172, 0.7812721245284845, 0.9649916324874669, 0.9889590064771523, 0.7812762190324939, 0.781320395805247, 0.7812835364525845, 0.8102681935743548, 0.9056991474704009, 0.9487035048222336, 0.9437751842077362, 0.9225213828965383, 0.8814407554383947, 0.9639467142480187, 0.012279575977681768, 0.024559151955363536, 0.9515572589354131, 0.9639064940782807, 0.050829094650268324, 0.9149237037048298, 0.52973461835523, 0.4046583890213562, 0.05570621978735553, 0.009809900339911665, 0.5445387816661117, 0.3764503015976453, 0.06120724947413553, 0.017796393544580583, 0.9055999746942234, 0.928276965146192, 0.5844281295364053, 0.32441724741612704, 0.07792375060485406, 0.012722244996710865, 0.08225451861435062, 0.8823666542266704, 0.029910734041582045, 0.5202844346426937, 0.39077769023517234, 0.07509014905096653, 0.01390118265658716, 0.9650386911366374, 0.7812636874883709, 0.11301878124588077, 0.7911314687211654, 0.8990513819332259, 0.7813114770038884, 0.10777432340680204, 0.08083074255510153, 0.7813638446993147, 0.9135016325372779, 0.08617939929596961, 0.2779055815164801, 0.6789977521166646, 0.03952061219750246, 0.003363456357234252, 0.01857521423165929, 0.965911140046283, 0.01857521423165929, 0.7812852268008148, 0.11310201589872262, 0.8821957240100364, 0.007540134393248175, 0.559431664302457, 0.34914884013202996, 0.06844110786678996, 0.022813702622263322, 0.08607975063014867, 0.17215950126029733, 0.08607975063014867, 0.6025582544110406, 0.6120194798741376, 0.26446389203320403, 0.0964935822283312, 0.026803772841203107, 0.43135542499207447, 0.47276926838397804, 0.07119458470742977, 0.024662176401920116, 0.5273894876573446, 0.4525571954897484, 0.01900502658224665, 0.0023756283227808314, 0.08111490942419006, 0.8922640036660907, 0.6789234809379782, 0.17854043097330913, 0.14095297182103353, 0.0023492161970172253, 0.2731234531767443, 0.6239899117521125, 0.07058246542769797, 0.03273389700994688, 0.40545752414188624, 0.3639902773546479, 0.18660261054257266, 0.04377098271986272], \"Term\": [\"!\", \"!\", \"!\", \"!\", \"''\", \"''\", \"''\", \"''\", \"(\", \"(\", \"(\", \"(\", \",\", \",\", \",\", \",\", \"--\", \"--\", \"--\", \"--\", \".\", \".\", \".\", \".\", \"1/8''\", \"12''\", \"2-56\", \"21/64''\", \"3/64''\", \"5/16''\", \"9/32''\", \":\", \":\", \":\", \":\", \";\", \";\", \";\", \";\", \"?\", \"?\", \"?\", \"?\", \"A\", \"A\", \"A\", \"A\", \"Af\", \"Af\", \"Af\", \"Af\", \"Annapolis\", \"Assemble\", \"Berlin\", \"Berlin\", \"Carleton\", \"Class\", \"Class\", \"Class\", \"Classes\", \"Communist\", \"Communist\", \"Communist\", \"Compress\", \"Congress\", \"Congress\", \"Corps\", \"Corps\", \"Corps\", \"Cuba\", \"Cuba\", \"Democratic\", \"Democratic\", \"Democratic\", \"Democrats\", \"Derails\", \"Determine\", \"Drill\", \"Drug's\", \"Du\", \"Eisenhower\", \"Eisenhower\", \"Eisenhower\", \"Fig.\", \"Fig.\", \"Fig.\", \"Finals\", \"Foods\", \"Forest\", \"Forest\", \"Forest\", \"Forests\", \"Forests\", \"Handler\", \"Hanover\", \"He\", \"He\", \"He\", \"Hengesbach\", \"Henri\", \"Henri\", \"Henri\", \"Her\", \"I\", \"I\", \"I\", \"I\", \"I'd\", \"I'll\", \"I'll\", \"I'm\", \"I'm\", \"Interlocking\", \"Johnnie\", \"Junior\", \"Junior\", \"Juniors\", \"Kennedy\", \"Kennedy\", \"Kennedy\", \"Kowalski\", \"Kowalski\", \"Larson's\", \"Linda\", \"Lucy\", \"Maggie\", \"Maris\", \"Maris\", \"Mayor\", \"Miss\", \"Miss\", \"Moscow\", \"Moscow\", \"Motors\", \"Mrs.\", \"Mrs.\", \"Mrs.\", \"Myra\", \"National\", \"National\", \"National\", \"National\", \"No.\", \"No.\", \"No.\", \"Oh\", \"Pathology\", \"Peace\", \"Phil\", \"Player\", \"Pohl\", \"Pont\", \"Premier\", \"President\", \"President\", \"President\", \"Prokofieff\", \"Push-Pull\", \"SBA\", \"Sales\", \"Sharpe\", \"She\", \"She\", \"Showmanship\", \"Simpkins\", \"Speaker\", \"Speaker\", \"State's\", \"States\", \"States\", \"States\", \"States\", \"Super-Set\", \"Tack-solder\", \"Tend\", \"The\", \"The\", \"The\", \"The\", \"Theresa\", \"Turnout\", \"United\", \"United\", \"United\", \"United\", \"Weider\", \"Westminster\", \"Westminster\", \"Westminster\", \"``\", \"``\", \"``\", \"``\", \"a\", \"a\", \"a\", \"a\", \"acres\", \"acres\", \"acres\", \"administration\", \"administration\", \"administration\", \"aircraft\", \"aircraft\", \"aircraft\", \"align\", \"allotment\", \"allotment\", \"allowances\", \"allowances\", \"an\", \"an\", \"an\", \"an\", \"and\", \"and\", \"and\", \"and\", \"anti-trust\", \"are\", \"are\", \"are\", \"are\", \"as\", \"as\", \"as\", \"as\", \"assessment\", \"assessors\", \"at\", \"at\", \"at\", \"at\", \"baby\", \"bacterial\", \"bar\", \"bar\", \"bar\", \"barbecue\", \"barbecue\", \"barbell\", \"bars\", \"bars\", \"bars\", \"be\", \"be\", \"be\", \"be\", \"bloat\", \"boats\", \"bodybuilder\", \"buns\", \"but\", \"but\", \"but\", \"but\", \"by\", \"by\", \"by\", \"by\", \"camping\", \"cams\", \"can\", \"can\", \"can\", \"can\", \"capita\", \"carborundum\", \"cattle\", \"cattle\", \"cattle\", \"cavity\", \"clay\", \"clay\", \"clay\", \"coals\", \"cone\", \"couldn't\", \"couldn't\", \"crosswise\", \"cup\", \"cup\", \"debentures\", \"diarrhea\", \"didn't\", \"didn't\", \"didn't\", \"disassemble\", \"dog-pin\", \"drill\", \"drill\", \"drill\", \"drug\", \"employees\", \"employees\", \"employees\", \"engineer\", \"engineer\", \"engineer\", \"engineer\", \"engineers\", \"engineers\", \"engineers\", \"exercise\", \"exercise\", \"exercise\", \"exercise\", \"eyes\", \"eyes\", \"eyes\", \"faculty\", \"faculty\", \"faculty\", \"feed\", \"feed\", \"feed\", \"feed\", \"fiscal\", \"fiscal\", \"fiscal\", \"for\", \"for\", \"for\", \"for\", \"formula\", \"formula\", \"frame\", \"frame\", \"frame\", \"frame\", \"frankfurter\", \"frankfurters\", \"franks\", \"from\", \"from\", \"from\", \"from\", \"gear\", \"gin\", \"grams\", \"grants\", \"grill\", \"gun\", \"habitat\", \"habitat\", \"had\", \"had\", \"had\", \"had\", \"hadn't\", \"hair\", \"has\", \"has\", \"has\", \"has\", \"have\", \"have\", \"have\", \"have\", \"he\", \"he\", \"he\", \"he\", \"helium\", \"her\", \"her\", \"her\", \"herself\", \"him\", \"him\", \"him\", \"him\", \"his\", \"his\", \"his\", \"his\", \"horizontally\", \"in\", \"in\", \"in\", \"in\", \"industry\", \"industry\", \"industry\", \"interior\", \"interlocking\", \"is\", \"is\", \"is\", \"is\", \"it\", \"it\", \"it\", \"it\", \"item\", \"ketosis\", \"lambs\", \"law\", \"law\", \"law\", \"left-hand\", \"levers\", \"lid\", \"lid\", \"like\", \"like\", \"like\", \"like\", \"locking\", \"locking\", \"locking\", \"looked\", \"looked\", \"looked\", \"management\", \"management\", \"management\", \"management\", \"mandrel\", \"market\", \"market\", \"market\", \"market\", \"marketing\", \"may\", \"may\", \"may\", \"may\", \"me\", \"me\", \"me\", \"measurements\", \"milligrams\", \"mold\", \"mold\", \"mold\", \"mother\", \"mother\", \"mother\", \"mustard\", \"mustard\", \"my\", \"my\", \"my\", \"myself\", \"myself\", \"neutral\", \"not\", \"not\", \"not\", \"not\", \"notches\", \"nuclear\", \"nuclear\", \"of\", \"of\", \"of\", \"of\", \"on\", \"on\", \"on\", \"on\", \"or\", \"or\", \"or\", \"or\", \"pale\", \"per\", \"per\", \"per\", \"petitioner\", \"pool\", \"pool\", \"pool\", \"pound\", \"pound\", \"pound\", \"probabilities\", \"problem\", \"problem\", \"problem\", \"propaganda\", \"property\", \"property\", \"pursuant\", \"quill\", \"reassemble\", \"right-hand\", \"said\", \"said\", \"said\", \"sales\", \"sales\", \"sales\", \"sauce\", \"sauce\", \"scribing\", \"seam\", \"session\", \"session\", \"session\", \"she\", \"she\", \"she\", \"she'd\", \"shelter\", \"shelter\", \"should\", \"should\", \"should\", \"should\", \"shutter\", \"skywave\", \"slot\", \"smiled\", \"snake\", \"snug\", \"snug-fitting\", \"soldered\", \"spacers\", \"spectra\", \"state-owned\", \"strategic\", \"tappet\", \"tappets\", \"tax\", \"tax\", \"tax\", \"taxpayers\", \"tests\", \"textile\", \"textile\", \"that\", \"that\", \"that\", \"that\", \"the\", \"the\", \"the\", \"the\", \"thermometer\", \"thermometers\", \"this\", \"this\", \"this\", \"this\", \"thought\", \"thought\", \"thought\", \"to\", \"to\", \"to\", \"to\", \"toll-road\", \"track-signal\", \"trails\", \"trails\", \"turnpikes\", \"unsolder\", \"vehicles\", \"vehicles\", \"vehicles\", \"vote\", \"vote\", \"was\", \"was\", \"was\", \"was\", \"wasn't\", \"wasn't\", \"wasn't\", \"wedge-shaped\", \"went\", \"went\", \"went\", \"which\", \"which\", \"which\", \"which\", \"wildlife\", \"wildlife\", \"wildlife\", \"wildlife\", \"will\", \"will\", \"will\", \"will\", \"with\", \"with\", \"with\", \"with\", \"would\", \"would\", \"would\", \"would\", \"yarn\", \"yarn\", \"year\", \"year\", \"year\", \"year\", \"you\", \"you\", \"you\", \"you\", \"your\", \"your\", \"your\", \"your\"]}, \"R\": 30, \"lambda.step\": 0.01, \"plot.opts\": {\"xlab\": \"PC1\", \"ylab\": \"PC2\"}, \"topic.order\": [4, 1, 2, 5, 3]};\n",
       "\n",
       "function LDAvis_load_lib(url, callback){\n",
       "  var s = document.createElement('script');\n",
       "  s.src = url;\n",
       "  s.async = true;\n",
       "  s.onreadystatechange = s.onload = callback;\n",
       "  s.onerror = function(){console.warn(\"failed to load library \" + url);};\n",
       "  document.getElementsByTagName(\"head\")[0].appendChild(s);\n",
       "}\n",
       "\n",
       "if(typeof(LDAvis) !== \"undefined\"){\n",
       "   // already loaded: just create the visualization\n",
       "   !function(LDAvis){\n",
       "       new LDAvis(\"#\" + \"ldavis_el1848414927841107689076924569\", ldavis_el1848414927841107689076924569_data);\n",
       "   }(LDAvis);\n",
       "}else if(typeof define === \"function\" && define.amd){\n",
       "   // require.js is available: use it to load d3/LDAvis\n",
       "   require.config({paths: {d3: \"https://d3js.org/d3.v5\"}});\n",
       "   require([\"d3\"], function(d3){\n",
       "      window.d3 = d3;\n",
       "      LDAvis_load_lib(\"https://cdn.jsdelivr.net/gh/bmabey/pyLDAvis@3.4.0/pyLDAvis/js/ldavis.v3.0.0.js\", function(){\n",
       "        new LDAvis(\"#\" + \"ldavis_el1848414927841107689076924569\", ldavis_el1848414927841107689076924569_data);\n",
       "      });\n",
       "    });\n",
       "}else{\n",
       "    // require.js not available: dynamically load d3 & LDAvis\n",
       "    LDAvis_load_lib(\"https://d3js.org/d3.v5.js\", function(){\n",
       "         LDAvis_load_lib(\"https://cdn.jsdelivr.net/gh/bmabey/pyLDAvis@3.4.0/pyLDAvis/js/ldavis.v3.0.0.js\", function(){\n",
       "                 new LDAvis(\"#\" + \"ldavis_el1848414927841107689076924569\", ldavis_el1848414927841107689076924569_data);\n",
       "            })\n",
       "         });\n",
       "}\n",
       "</script>"
      ],
      "text/plain": [
       "<IPython.core.display.HTML object>"
      ]
     },
     "execution_count": 21,
     "metadata": {},
     "output_type": "execute_result"
    }
   ],
   "source": [
    "import pyLDAvis.gensim_models\n",
    "\n",
    "# Prepare the LDA visualization using the gensim_models interface\n",
    "lda_display = pyLDAvis.gensim_models.prepare(lda_model, corpus, dictionary)\n",
    "pyLDAvis.display(lda_display)\n",
    "\n",
    "\n"
   ]
  },
  {
   "attachments": {},
   "cell_type": "markdown",
   "id": "a3d14c87",
   "metadata": {},
   "source": [
    "Q: What conclusions do you draw from the visualization above? Please address the principal component scatterplot and the salient terms graph.\n",
    "\n",
    "A: <!-- Your answer here --> \n",
    "\n",
    "- The map shows topics 1, 2, and 3 overlapping significantly, which suggests these topics share a lot of common vocabulary or discuss related themes. This overlap might indicate that the distinctions between the themes these topics represent are subtle.\n",
    "- Topics 4 and 5 appear more distinct and separate from the cluster of the first three topics. This suggests that the themes captured by topics 4 and 5 are more unique or less related to the themes of topics 1, 2, and 3.\n",
    "- The size of the circles represents the relative document proportions within each topic. Topic 1 is notably larger than the others, indicating it comprises a higher proportion of the corpus.\n",
    "- The marginal topic distribution curve along the bottom left suggests that most topics occupy a moderate percentage of the document corpus, with no single topic dominating. This distribution can help in understanding the balance of topic coverage across the corpus.\n",
    "- Term Frequency: The graph shows a list of words that are very common in the English language, such as \"the\", \"of\", \"and\", \"to\", \"in\", which are typical stopwords. Their high frequency across the documents suggests that either the preprocessing could be adjusted to remove these common terms for more insightful analysis or that the topics are capturing broad linguistic structures rather than specific thematic content.\n",
    "Adjusting the Relevance Metric (Lambda - λ):\n",
    "- The current setting of λ=1 emphasizes the terms' frequency over their distinctiveness. This setting might not be ideal for understanding what makes each topic unique. Adjusting λ towards 0 would increase the weight of the terms' distinctiveness within the topic relative to their overall frequency in the corpus, potentially revealing more about the unique aspects of each topic."
   ]
  }
 ],
 "metadata": {
  "kernelspec": {
   "display_name": "Python 3",
   "language": "python",
   "name": "python3"
  },
  "language_info": {
   "codemirror_mode": {
    "name": "ipython",
    "version": 3
   },
   "file_extension": ".py",
   "mimetype": "text/x-python",
   "name": "python",
   "nbconvert_exporter": "python",
   "pygments_lexer": "ipython3",
   "version": "3.11.9"
  }
 },
 "nbformat": 4,
 "nbformat_minor": 5
}
